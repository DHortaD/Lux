{
 "cells": [
  {
   "cell_type": "code",
   "execution_count": 1,
   "metadata": {},
   "outputs": [
    {
     "name": "stdout",
     "output_type": "stream",
     "text": [
      "../spec/spectra-reference-stars-APOGEE-giants-ref/spectra_data-train-rgbs-new.dat\n",
      "File already exists. Loading spectra data\n"
     ]
    },
    {
     "name": "stderr",
     "output_type": "stream",
     "text": [
      "24it [00:00, 83.07it/s]"
     ]
    },
    {
     "name": "stdout",
     "output_type": "stream",
     "text": [
      "Loaded data successfully\n"
     ]
    },
    {
     "name": "stderr",
     "output_type": "stream",
     "text": [
      "\n"
     ]
    }
   ],
   "source": [
    "import jax.numpy as jnp\n",
    "import numpy as np\n",
    "import jax\n",
    "jax.config.update(\"jax_enable_x64\", True)\n",
    "from astropy.io import fits\n",
    "import tqdm\n",
    "\n",
    "from matplotlib import rc\n",
    "import matplotlib.pyplot as plt\n",
    "rc('font',**{'family':'serif','serif':['Times']})\n",
    "rc('text', usetex=True)\n",
    "import cmasher as cm\n",
    "\n",
    "import load_data as ld\n",
    "import optimise as opt\n",
    "import scatters as opt_sc\n",
    "import init_latents as il\n",
    "import kfold_cv as kf\n",
    "\n",
    "import time\n",
    "\n",
    "# load the data\n",
    "file_name = '-train-rgbs-new'\n",
    "spectra_dir_path = '../spec/spectra-reference-stars-APOGEE-giants-ref/'\n",
    "file_path = '../data/master-APOGEE-giants-train.fits'\n",
    "spectra_data, label_data = ld.load_data(spectra_dir_path, file_path, file_name)\n",
    "\n",
    "# define the training set\n",
    "train_ID = label_data['ids']\n",
    "train_flux = spectra_data['fluxes']\n",
    "train_flux_err = spectra_data['fluxes_err']\n",
    "train_flux_ivar = spectra_data['fluxes_ivars']\n",
    "train_label = label_data['labels']\n",
    "train_label_err = label_data['labels_err']\n",
    "train_label_ivar = label_data['labels_ivars']"
   ]
  },
  {
   "cell_type": "code",
   "execution_count": 2,
   "metadata": {},
   "outputs": [],
   "source": [
    "# initialise the noise in the pixels\n",
    "ln_noise_fluxes_init = jnp.full(train_flux.shape[1], -8.0)\n",
    "\n",
    "# define a range of l2 regularisation strengths to test\n",
    "l2_reg_strength = jnp.array([0.1, 1., 10., 100])\n",
    "\n",
    "# define a range of latent dimensionality to test\n",
    "P = jnp.array([13, 25, 49, 97]) # this is 1, 2, 4, 8 times size of the labels, M +1; +1 here cause you need the latents dimensionality to be M+1\n",
    "\n",
    "# define other variables in the model and where to save outputs\n",
    "iterations = 5\n",
    "omega = 1. # we will set this to one as we tried varying this and it doesn't do much\n",
    "k = 5 # 5 k-folds\n",
    "savepath = '../sav/paper/'+str(k)+'-fold-'"
   ]
  },
  {
   "cell_type": "markdown",
   "metadata": {},
   "source": [
    "# first run the agenda without noise to optimise the latents quickly using a least-squares solver. Do this for every size of latent dimentionality"
   ]
  },
  {
   "cell_type": "code",
   "execution_count": 325,
   "metadata": {},
   "outputs": [
    {
     "name": "stderr",
     "output_type": "stream",
     "text": [
      "/var/folders/rq/q7l_wtbx4sx5ky0yrvbk7fgh0000gq/T/ipykernel_19141/4241305098.py:2: TqdmDeprecationWarning: This function will be removed in tqdm==5.0.0\n",
      "Please use `tqdm.notebook.tqdm` instead of `tqdm.tqdm_notebook`\n",
      "  for jndx, j in tqdm.tqdm_notebook(enumerate(P)):\n"
     ]
    },
    {
     "data": {
      "application/json": {
       "ascii": false,
       "bar_format": null,
       "colour": null,
       "elapsed": 0.0026307106018066406,
       "initial": 0,
       "n": 0,
       "ncols": null,
       "nrows": null,
       "postfix": null,
       "prefix": "",
       "rate": null,
       "total": null,
       "unit": "it",
       "unit_divisor": 1000,
       "unit_scale": false
      },
      "application/vnd.jupyter.widget-view+json": {
       "model_id": "6a80c30e3cd44da28533c7d1739357f5",
       "version_major": 2,
       "version_minor": 0
      },
      "text/plain": [
       "0it [00:00, ?it/s]"
      ]
     },
     "metadata": {},
     "output_type": "display_data"
    }
   ],
   "source": [
    "# loop over the latent dimensionality\n",
    "for jndx, j in tqdm.tqdm_notebook(enumerate(P)):\n",
    "    ids_, lab_data, spec_data, alphas_init, betas_init, zetas_init = kf.split_kfold_data(train_ID, train_label, train_label_err, train_label_ivar, train_flux, train_flux_err, train_flux_ivar, k, j)\n",
    "\n",
    "    # create empty lists to store values\n",
    "    alphas_kfold = []\n",
    "    betas_kfold = []\n",
    "    zetas_kfold = []\n",
    "    chi2_iter_kfold = []\n",
    "\n",
    "    print('Running optimisation of model latents on k-fold samples for a latent dimensionality of '+str(j))\n",
    "    for hndx, h in enumerate(alphas_init):\n",
    "        alphas_ = h\n",
    "        betas_ = betas_init[hndx]\n",
    "        zetas_ = zetas_init[hndx]\n",
    "\n",
    "\n",
    "        for lndx, l in enumerate(range(iterations)):\n",
    "\n",
    "            start_time = time.time()\n",
    "            \n",
    "            # run optimisation routine without noise\n",
    "            alphas_, betas_, zetas_, diff_chi2_iter, chi2_iter = opt.run_agenda(alphas_, betas_, zetas_, lab_data['labels_train'][hndx], lab_data['labels_train_err'][hndx],\\\n",
    "                                                                                            spec_data['fluxes_train'][hndx], spec_data['fluxes_train_err'][hndx], omega)\n",
    "\n",
    "            end_time = time.time()\n",
    "            elapsed_time = end_time - start_time\n",
    "            print(f\"Time to run agenda: {elapsed_time:.2f} seconds\")\n",
    "\n",
    "        alphas_kfold.append(alphas_)\n",
    "        betas_kfold.append(betas_)\n",
    "        zetas_kfold.append(zetas_)\n",
    "        chi2_iter_kfold.append(chi2_iter)\n",
    "        \n",
    "    \n",
    "    jnp.save(savepath+'latent_dim_' + str(j)+'-alphas', alphas_kfold)\n",
    "    jnp.save(savepath+'latent_dim_' + str(j)+'-betas', betas_kfold)\n",
    "    jnp.save(savepath+'latent_dim_' + str(j)+'-zetas', zetas_kfold)\n",
    "    jnp.save(savepath+'latent_dim_' + str(j)+'-chi2_iter', chi2_iter_kfold)\n",
    "    jnp.save(savepath+'label_data', lab_data)\n",
    "    jnp.save(savepath+'spectral_data', spec_data)\n"
   ]
  },
  {
   "cell_type": "markdown",
   "metadata": {},
   "source": [
    "# already ran this before"
   ]
  },
  {
   "cell_type": "code",
   "execution_count": 25,
   "metadata": {},
   "outputs": [],
   "source": [
    "# P = 13\n",
    "alphas_P13_kfold = jnp.load(savepath+'latent_dim_13-alphas.npy', allow_pickle=True)\n",
    "betas_P13_kfold = jnp.load(savepath+'latent_dim_13-betas.npy', allow_pickle=True)\n",
    "zetas_P13_kfold = jnp.load(savepath+'latent_dim_13-zetas.npy', allow_pickle=True)\n",
    "\n",
    "# P = 25\n",
    "alphas_P25_kfold = jnp.load(savepath+'latent_dim_25-alphas.npy', allow_pickle=True)\n",
    "betas_P25_kfold = jnp.load(savepath+'latent_dim_25-betas.npy', allow_pickle=True)\n",
    "zetas_P25_kfold = jnp.load(savepath+'latent_dim_25-zetas.npy', allow_pickle=True)\n",
    "\n",
    "# P = 49\n",
    "alphas_P49_kfold = jnp.load(savepath+'latent_dim_49-alphas.npy', allow_pickle=True)\n",
    "betas_P49_kfold = jnp.load(savepath+'latent_dim_49-betas.npy', allow_pickle=True)\n",
    "zetas_P49_kfold = jnp.load(savepath+'latent_dim_49-zetas.npy', allow_pickle=True)\n",
    "\n",
    "# P = 97\n",
    "alphas_P97_kfold = jnp.load(savepath+'latent_dim_97-alphas.npy', allow_pickle=True)\n",
    "betas_P97_kfold = jnp.load(savepath+'latent_dim_97-betas.npy', allow_pickle=True)\n",
    "zetas_P97_kfold = jnp.load(savepath+'latent_dim_97-zetas.npy', allow_pickle=True)\n",
    "\n",
    "lab_data = jnp.load(savepath+'label_data.npy', allow_pickle=True)\n",
    "spec_data = jnp.load(savepath+'spectral_data.npy', allow_pickle=True)"
   ]
  },
  {
   "cell_type": "markdown",
   "metadata": {},
   "source": [
    "# now run the optimisation routine with noise. Here, we will vary the strength of the L2 regularisation"
   ]
  },
  {
   "cell_type": "code",
   "execution_count": 27,
   "metadata": {},
   "outputs": [],
   "source": [
    "# stack all the latents\n",
    "alphas_ = [alphas_P13_kfold, alphas_P25_kfold, alphas_P49_kfold, alphas_P97_kfold]\n",
    "betas_ = [betas_P13_kfold, betas_P25_kfold, betas_P49_kfold, betas_P97_kfold]\n",
    "zetas_ = [zetas_P13_kfold, zetas_P25_kfold, zetas_P49_kfold, zetas_P97_kfold]\n"
   ]
  },
  {
   "cell_type": "code",
   "execution_count": 28,
   "metadata": {},
   "outputs": [],
   "source": [
    "for jndx, j in enumerate(P):\n",
    "    ids_, lab_data, spec_data, alphas_init, betas_init, zetas_init = kf.split_kfold_data(train_ID, train_label, train_label_err, train_label_ivar, train_flux, train_flux_err, train_flux_ivar, k, j)"
   ]
  },
  {
   "cell_type": "code",
   "execution_count": 6,
   "metadata": {},
   "outputs": [],
   "source": [
    "def opt_lnfluxvar_betas_zetas(alphas, betas, zetas,\\\n",
    "                            lab_data, spec_data, ln_noise_fluxes_init, \\\n",
    "                            l2_reg_strength, omega, name='latent_dim_13_L2reg'):\n",
    "\n",
    "    # loop over every L2 reg strength\n",
    "    for indx, i in enumerate(l2_reg_strength):\n",
    "        betas_updated = []\n",
    "        zetas_updated = []\n",
    "        ln_noise_fluxes_updated = []\n",
    "        nll_ = []\n",
    "        # loop over every k-fold sample\n",
    "        for jndx, j in tqdm.tqdm_notebook(enumerate(alphas)):\n",
    "            \n",
    "            # run optimisation routine with noise in the flux\n",
    "            betas_iter, zetas_iter, ln_noise_fluxes_iter, nll_iter = opt_sc.run_agenda(j, betas[jndx], zetas[jndx], lab_data['labels_train'][jndx],\\\n",
    "                                                        lab_data['labels_train_ivars'][jndx], spec_data['fluxes_train'][jndx], spec_data['fluxes_train_ivars'][jndx],\\\n",
    "                                                        ln_noise_fluxes_init, i, omega)\n",
    "        \n",
    "            betas_updated.append(betas_iter)\n",
    "            zetas_updated.append(zetas_iter)\n",
    "            ln_noise_fluxes_updated.append(ln_noise_fluxes_iter)\n",
    "            nll_.append(nll_iter)\n",
    "\n",
    "        jnp.save(savepath+str(name)+str(i)+'-betas_', betas_updated)\n",
    "        jnp.save(savepath+str(name)+str(i)+'-zetas_', zetas_updated)\n",
    "        jnp.save(savepath+str(name)+str(i)+'-ln_noise_fluxes_', ln_noise_fluxes_updated)\n",
    "        jnp.save(savepath+str(name)+str(i)+'-nll_', nll_)\n"
   ]
  },
  {
   "cell_type": "code",
   "execution_count": 8,
   "metadata": {},
   "outputs": [],
   "source": [
    "def opt_lnfluxvar_betas_zetas(alphas, betas, zetas,\\\n",
    "                            lab_data, spec_data, ln_noise_fluxes_init, \\\n",
    "                            l2_reg_strength, omega, name='latent_dim_13_L2reg'):\n",
    "\n",
    "    betas_updated = []\n",
    "    zetas_updated = []\n",
    "    ln_noise_fluxes_updated = []\n",
    "    nll_ = []\n",
    "    # loop over every k-fold sample\n",
    "    for jndx, j in tqdm.tqdm_notebook(enumerate(alphas)):\n",
    "        \n",
    "        # run optimisation routine with noise in the flux\n",
    "        betas_iter, zetas_iter, ln_noise_fluxes_iter, nll_iter = opt_sc.run_agenda(j, betas[jndx], zetas[jndx], lab_data['labels_train'][jndx],\\\n",
    "                                                    lab_data['labels_train_ivars'][jndx], spec_data['fluxes_train'][jndx], spec_data['fluxes_train_ivars'][jndx],\\\n",
    "                                                    ln_noise_fluxes_init, l2_reg_strength, omega)\n",
    "    \n",
    "        betas_updated.append(betas_iter)\n",
    "        zetas_updated.append(zetas_iter)\n",
    "        ln_noise_fluxes_updated.append(ln_noise_fluxes_iter)\n",
    "        nll_.append(nll_iter)\n",
    "\n",
    "    jnp.save(savepath+str(name)+str(int(l2_reg_strength))+'-betas_', betas_updated)\n",
    "    jnp.save(savepath+str(name)+str(int(l2_reg_strength))+'-zetas_', zetas_updated)\n",
    "    jnp.save(savepath+str(name)+str(int(l2_reg_strength))+'-ln_noise_fluxes_', ln_noise_fluxes_updated)\n",
    "    jnp.save(savepath+str(name)+str(int(l2_reg_strength))+'-nll_', nll_)\n"
   ]
  },
  {
   "cell_type": "code",
   "execution_count": 9,
   "metadata": {},
   "outputs": [
    {
     "name": "stderr",
     "output_type": "stream",
     "text": [
      "/var/folders/rq/q7l_wtbx4sx5ky0yrvbk7fgh0000gq/T/ipykernel_27152/1617058487.py:10: TqdmDeprecationWarning: This function will be removed in tqdm==5.0.0\n",
      "Please use `tqdm.notebook.tqdm` instead of `tqdm.tqdm_notebook`\n",
      "  for jndx, j in tqdm.tqdm_notebook(enumerate(alphas)):\n"
     ]
    },
    {
     "data": {
      "application/json": {
       "ascii": false,
       "bar_format": null,
       "colour": null,
       "elapsed": 0.0034580230712890625,
       "initial": 0,
       "n": 0,
       "ncols": null,
       "nrows": null,
       "postfix": null,
       "prefix": "",
       "rate": null,
       "total": null,
       "unit": "it",
       "unit_divisor": 1000,
       "unit_scale": false
      },
      "application/vnd.jupyter.widget-view+json": {
       "model_id": "f2259b91af014adf93f8941bd3affca0",
       "version_major": 2,
       "version_minor": 0
      },
      "text/plain": [
       "0it [00:00, ?it/s]"
      ]
     },
     "metadata": {},
     "output_type": "display_data"
    },
    {
     "name": "stdout",
     "output_type": "stream",
     "text": [
      "WARNING: jaxopt.ZoomLineSearch: Linesearch failed, no stepsize satisfying sufficient decrease found.\n",
      "INFO: jaxopt.ZoomLineSearch: Iter: 30, Stepsize: 1.862645149230957e-06, Decrease error: 217204944.0495323, Curvature error: 233325572147152.84\n",
      "WARNING: jaxopt.ZoomLineSearch: Consider augmenting the maximal number of linesearch iterations.\n",
      "WARNING: jaxopt.ZoomLineSearch: Making an unsafe step, not decreasing enough the objective. Convergence of the solver is compromised as it does not reduce values.\n",
      "WARNING: jaxopt.ZoomLineSearch: Linesearch failed, no stepsize satisfying sufficient decrease found.\n",
      "INFO: jaxopt.ZoomLineSearch: Iter: 30, Stepsize: 1.862645149230957e-06, Decrease error: 6137.1705901124315, Curvature error: 6591772803.465353\n",
      "WARNING: jaxopt.ZoomLineSearch: Consider augmenting the maximal number of linesearch iterations.\n",
      "WARNING: jaxopt.ZoomLineSearch: Making an unsafe step, not decreasing enough the objective. Convergence of the solver is compromised as it does not reduce values.\n",
      "WARNING: jaxopt.ZoomLineSearch: Linesearch failed, no stepsize satisfying sufficient decrease found.\n",
      "INFO: jaxopt.ZoomLineSearch: Iter: 30, Stepsize: 1.862645149230957e-06, Decrease error: 268083124.11750206, Curvature error: 287981980021639.1\n",
      "WARNING: jaxopt.ZoomLineSearch: Consider augmenting the maximal number of linesearch iterations.\n",
      "WARNING: jaxopt.ZoomLineSearch: Making an unsafe step, not decreasing enough the objective. Convergence of the solver is compromised as it does not reduce values.\n",
      "WARNING: jaxopt.ZoomLineSearch: Linesearch failed, no stepsize satisfying sufficient decrease found.\n",
      "INFO: jaxopt.ZoomLineSearch: Iter: 30, Stepsize: 1.862645149230957e-06, Decrease error: 6307.394018375877, Curvature error: 6774631745.474764\n",
      "WARNING: jaxopt.ZoomLineSearch: Consider augmenting the maximal number of linesearch iterations.\n",
      "WARNING: jaxopt.ZoomLineSearch: Making an unsafe step, not decreasing enough the objective. Convergence of the solver is compromised as it does not reduce values.\n",
      "WARNING: jaxopt.ZoomLineSearch: Linesearch failed, no stepsize satisfying sufficient decrease found.\n",
      "INFO: jaxopt.ZoomLineSearch: Iter: 30, Stepsize: 1.862645149230957e-06, Decrease error: 203506199.9550989, Curvature error: 218610941276337.6\n",
      "WARNING: jaxopt.ZoomLineSearch: Consider augmenting the maximal number of linesearch iterations.\n",
      "WARNING: jaxopt.ZoomLineSearch: Making an unsafe step, not decreasing enough the objective. Convergence of the solver is compromised as it does not reduce values.\n",
      "WARNING: jaxopt.ZoomLineSearch: Linesearch failed, no stepsize satisfying sufficient decrease found.\n",
      "INFO: jaxopt.ZoomLineSearch: Iter: 30, Stepsize: 1.862645149230957e-06, Decrease error: 6327.503960610965, Curvature error: 6796246048.690642\n",
      "WARNING: jaxopt.ZoomLineSearch: Consider augmenting the maximal number of linesearch iterations.\n",
      "WARNING: jaxopt.ZoomLineSearch: Making an unsafe step, not decreasing enough the objective. Convergence of the solver is compromised as it does not reduce values.\n",
      "WARNING: jaxopt.ZoomLineSearch: Linesearch failed, no stepsize satisfying sufficient decrease found.\n",
      "INFO: jaxopt.ZoomLineSearch: Iter: 30, Stepsize: 1.862645149230957e-06, Decrease error: 248059467.28659034, Curvature error: 266466602507799.06\n",
      "WARNING: jaxopt.ZoomLineSearch: Consider augmenting the maximal number of linesearch iterations.\n",
      "WARNING: jaxopt.ZoomLineSearch: Making an unsafe step, not decreasing enough the objective. Convergence of the solver is compromised as it does not reduce values.\n",
      "WARNING: jaxopt.ZoomLineSearch: Linesearch failed, no stepsize satisfying sufficient decrease found.\n",
      "INFO: jaxopt.ZoomLineSearch: Iter: 30, Stepsize: 1.862645149230957e-06, Decrease error: 6328.786239334676, Curvature error: 6797628939.1532345\n",
      "WARNING: jaxopt.ZoomLineSearch: Consider augmenting the maximal number of linesearch iterations.\n",
      "WARNING: jaxopt.ZoomLineSearch: Making an unsafe step, not decreasing enough the objective. Convergence of the solver is compromised as it does not reduce values.\n",
      "WARNING: jaxopt.ZoomLineSearch: Linesearch failed, no stepsize satisfying sufficient decrease found.\n",
      "INFO: jaxopt.ZoomLineSearch: Iter: 30, Stepsize: 1.862645149230957e-06, Decrease error: 276871421.4890853, Curvature error: 297416549019143.56\n",
      "WARNING: jaxopt.ZoomLineSearch: Consider augmenting the maximal number of linesearch iterations.\n",
      "WARNING: jaxopt.ZoomLineSearch: Making an unsafe step, not decreasing enough the objective. Convergence of the solver is compromised as it does not reduce values.\n",
      "WARNING: jaxopt.ZoomLineSearch: Linesearch failed, no stepsize satisfying sufficient decrease found.\n",
      "INFO: jaxopt.ZoomLineSearch: Iter: 30, Stepsize: 1.862645149230957e-06, Decrease error: 6535.398983069603, Curvature error: 7019458018.524633\n",
      "WARNING: jaxopt.ZoomLineSearch: Consider augmenting the maximal number of linesearch iterations.\n",
      "WARNING: jaxopt.ZoomLineSearch: Making an unsafe step, not decreasing enough the objective. Convergence of the solver is compromised as it does not reduce values.\n"
     ]
    }
   ],
   "source": [
    "opt_lnfluxvar_betas_zetas(alphas_P13_kfold, betas_P13_kfold, zetas_P13_kfold, lab_data, spec_data, ln_noise_fluxes_init, 1000, omega, name='latent_dim_13_L2reg')"
   ]
  },
  {
   "cell_type": "code",
   "execution_count": 33,
   "metadata": {},
   "outputs": [
    {
     "name": "stderr",
     "output_type": "stream",
     "text": [
      "/var/folders/rq/q7l_wtbx4sx5ky0yrvbk7fgh0000gq/T/ipykernel_27152/1617058487.py:10: TqdmDeprecationWarning: This function will be removed in tqdm==5.0.0\n",
      "Please use `tqdm.notebook.tqdm` instead of `tqdm.tqdm_notebook`\n",
      "  for jndx, j in tqdm.tqdm_notebook(enumerate(alphas)):\n"
     ]
    },
    {
     "data": {
      "application/json": {
       "ascii": false,
       "bar_format": null,
       "colour": null,
       "elapsed": 0.0024030208587646484,
       "initial": 0,
       "n": 0,
       "ncols": null,
       "nrows": null,
       "postfix": null,
       "prefix": "",
       "rate": null,
       "total": null,
       "unit": "it",
       "unit_divisor": 1000,
       "unit_scale": false
      },
      "application/vnd.jupyter.widget-view+json": {
       "model_id": "701d48f6014749e9a90811feb9739e75",
       "version_major": 2,
       "version_minor": 0
      },
      "text/plain": [
       "0it [00:00, ?it/s]"
      ]
     },
     "metadata": {},
     "output_type": "display_data"
    },
    {
     "name": "stdout",
     "output_type": "stream",
     "text": [
      "WARNING: jaxopt.ZoomLineSearch: Linesearch failed, no stepsize satisfying sufficient decrease found.\n",
      "INFO: jaxopt.ZoomLineSearch: Iter: 30, Stepsize: 1.862645149230957e-06, Decrease error: 91546803.19921723, Curvature error: 98343244892855.64\n",
      "WARNING: jaxopt.ZoomLineSearch: Consider augmenting the maximal number of linesearch iterations.\n",
      "WARNING: jaxopt.ZoomLineSearch: Making an unsafe step, not decreasing enough the objective. Convergence of the solver is compromised as it does not reduce values.\n",
      "WARNING: jaxopt.ZoomLineSearch: Linesearch failed, no stepsize satisfying sufficient decrease found.\n",
      "INFO: jaxopt.ZoomLineSearch: Iter: 30, Stepsize: 1.862645149230957e-06, Decrease error: 237597.66597164428, Curvature error: 255142347119.38208\n",
      "WARNING: jaxopt.ZoomLineSearch: Consider augmenting the maximal number of linesearch iterations.\n",
      "WARNING: jaxopt.ZoomLineSearch: Making an unsafe step, not decreasing enough the objective. Convergence of the solver is compromised as it does not reduce values.\n",
      "WARNING: jaxopt.ZoomLineSearch: Linesearch failed, no stepsize satisfying sufficient decrease found.\n",
      "INFO: jaxopt.ZoomLineSearch: Iter: 30, Stepsize: 1.862645149230957e-06, Decrease error: 97222126.93207608, Curvature error: 104443110550859.3\n",
      "WARNING: jaxopt.ZoomLineSearch: Consider augmenting the maximal number of linesearch iterations.\n",
      "WARNING: jaxopt.ZoomLineSearch: Making an unsafe step, not decreasing enough the objective. Convergence of the solver is compromised as it does not reduce values.\n",
      "WARNING: jaxopt.ZoomLineSearch: Linesearch failed, no stepsize satisfying sufficient decrease found.\n",
      "INFO: jaxopt.ZoomLineSearch: Iter: 30, Stepsize: 1.862645149230957e-06, Decrease error: 255026.43087327445, Curvature error: 273856644326.84644\n",
      "WARNING: jaxopt.ZoomLineSearch: Consider augmenting the maximal number of linesearch iterations.\n",
      "WARNING: jaxopt.ZoomLineSearch: Making an unsafe step, not decreasing enough the objective. Convergence of the solver is compromised as it does not reduce values.\n",
      "WARNING: jaxopt.ZoomLineSearch: Linesearch failed, no stepsize satisfying sufficient decrease found.\n",
      "INFO: jaxopt.ZoomLineSearch: Iter: 30, Stepsize: 1.862645149230957e-06, Decrease error: 119626904.22478078, Curvature error: 128508186503353.45\n",
      "WARNING: jaxopt.ZoomLineSearch: Consider augmenting the maximal number of linesearch iterations.\n",
      "WARNING: jaxopt.ZoomLineSearch: Making an unsafe step, not decreasing enough the objective. Convergence of the solver is compromised as it does not reduce values.\n",
      "WARNING: jaxopt.ZoomLineSearch: Linesearch failed, no stepsize satisfying sufficient decrease found.\n",
      "INFO: jaxopt.ZoomLineSearch: Iter: 30, Stepsize: 1.862645149230957e-06, Decrease error: 251350.11397857216, Curvature error: 269909640582.58044\n",
      "WARNING: jaxopt.ZoomLineSearch: Consider augmenting the maximal number of linesearch iterations.\n",
      "WARNING: jaxopt.ZoomLineSearch: Making an unsafe step, not decreasing enough the objective. Convergence of the solver is compromised as it does not reduce values.\n",
      "WARNING: jaxopt.ZoomLineSearch: Linesearch failed, no stepsize satisfying sufficient decrease found.\n",
      "INFO: jaxopt.ZoomLineSearch: Iter: 30, Stepsize: 1.862645149230957e-06, Decrease error: 131939493.60948603, Curvature error: 141734818408455.2\n",
      "WARNING: jaxopt.ZoomLineSearch: Consider augmenting the maximal number of linesearch iterations.\n",
      "WARNING: jaxopt.ZoomLineSearch: Making an unsafe step, not decreasing enough the objective. Convergence of the solver is compromised as it does not reduce values.\n",
      "WARNING: jaxopt.ZoomLineSearch: Linesearch failed, no stepsize satisfying sufficient decrease found.\n",
      "INFO: jaxopt.ZoomLineSearch: Iter: 30, Stepsize: 1.862645149230957e-06, Decrease error: 244157.06471836392, Curvature error: 262184624609.2087\n",
      "WARNING: jaxopt.ZoomLineSearch: Consider augmenting the maximal number of linesearch iterations.\n",
      "WARNING: jaxopt.ZoomLineSearch: Making an unsafe step, not decreasing enough the objective. Convergence of the solver is compromised as it does not reduce values.\n",
      "WARNING: jaxopt.ZoomLineSearch: Linesearch failed, no stepsize satisfying sufficient decrease found.\n",
      "INFO: jaxopt.ZoomLineSearch: Iter: 30, Stepsize: 1.862645149230957e-06, Decrease error: 152085169.52815437, Curvature error: 163364689963481.8\n",
      "WARNING: jaxopt.ZoomLineSearch: Consider augmenting the maximal number of linesearch iterations.\n",
      "WARNING: jaxopt.ZoomLineSearch: Making an unsafe step, not decreasing enough the objective. Convergence of the solver is compromised as it does not reduce values.\n",
      "WARNING: jaxopt.ZoomLineSearch: Linesearch failed, no stepsize satisfying sufficient decrease found.\n",
      "INFO: jaxopt.ZoomLineSearch: Iter: 30, Stepsize: 1.862645149230957e-06, Decrease error: 247056.39789545775, Curvature error: 265298037322.86496\n",
      "WARNING: jaxopt.ZoomLineSearch: Consider augmenting the maximal number of linesearch iterations.\n",
      "WARNING: jaxopt.ZoomLineSearch: Making an unsafe step, not decreasing enough the objective. Convergence of the solver is compromised as it does not reduce values.\n"
     ]
    }
   ],
   "source": [
    "opt_lnfluxvar_betas_zetas(alphas_P25_kfold, betas_P25_kfold, zetas_P25_kfold, lab_data, spec_data, ln_noise_fluxes_init, 1000, omega, name='latent_dim_25_L2reg')"
   ]
  },
  {
   "cell_type": "code",
   "execution_count": 34,
   "metadata": {},
   "outputs": [
    {
     "name": "stderr",
     "output_type": "stream",
     "text": [
      "/var/folders/rq/q7l_wtbx4sx5ky0yrvbk7fgh0000gq/T/ipykernel_27152/1617058487.py:10: TqdmDeprecationWarning: This function will be removed in tqdm==5.0.0\n",
      "Please use `tqdm.notebook.tqdm` instead of `tqdm.tqdm_notebook`\n",
      "  for jndx, j in tqdm.tqdm_notebook(enumerate(alphas)):\n"
     ]
    },
    {
     "data": {
      "application/json": {
       "ascii": false,
       "bar_format": null,
       "colour": null,
       "elapsed": 0.0020296573638916016,
       "initial": 0,
       "n": 0,
       "ncols": null,
       "nrows": null,
       "postfix": null,
       "prefix": "",
       "rate": null,
       "total": null,
       "unit": "it",
       "unit_divisor": 1000,
       "unit_scale": false
      },
      "application/vnd.jupyter.widget-view+json": {
       "model_id": "ad2a361c960f480daa5e8b677f191128",
       "version_major": 2,
       "version_minor": 0
      },
      "text/plain": [
       "0it [00:00, ?it/s]"
      ]
     },
     "metadata": {},
     "output_type": "display_data"
    },
    {
     "name": "stdout",
     "output_type": "stream",
     "text": [
      "WARNING: jaxopt.ZoomLineSearch: Linesearch failed, no stepsize satisfying sufficient decrease found.\n",
      "INFO: jaxopt.ZoomLineSearch: Iter: 30, Stepsize: 1.862645149230957e-06, Decrease error: 84462453.78693587, Curvature error: 90721051315997.73\n",
      "WARNING: jaxopt.ZoomLineSearch: Consider augmenting the maximal number of linesearch iterations.\n",
      "WARNING: jaxopt.ZoomLineSearch: Making an unsafe step, not decreasing enough the objective. Convergence of the solver is compromised as it does not reduce values.\n",
      "WARNING: jaxopt.ZoomLineSearch: Linesearch failed, no stepsize satisfying sufficient decrease found.\n",
      "INFO: jaxopt.ZoomLineSearch: Iter: 30, Stepsize: 1.862645149230957e-06, Decrease error: 487411.46344774065, Curvature error: 523388647602.8659\n",
      "WARNING: jaxopt.ZoomLineSearch: Consider augmenting the maximal number of linesearch iterations.\n",
      "WARNING: jaxopt.ZoomLineSearch: Making an unsafe step, not decreasing enough the objective. Convergence of the solver is compromised as it does not reduce values.\n",
      "WARNING: jaxopt.ZoomLineSearch: Linesearch failed, no stepsize satisfying sufficient decrease found.\n",
      "INFO: jaxopt.ZoomLineSearch: Iter: 30, Stepsize: 1.862645149230957e-06, Decrease error: 91682325.80926669, Curvature error: 98475720101941.22\n",
      "WARNING: jaxopt.ZoomLineSearch: Consider augmenting the maximal number of linesearch iterations.\n",
      "WARNING: jaxopt.ZoomLineSearch: Making an unsafe step, not decreasing enough the objective. Convergence of the solver is compromised as it does not reduce values.\n",
      "WARNING: jaxopt.ZoomLineSearch: Linesearch failed, no stepsize satisfying sufficient decrease found.\n",
      "INFO: jaxopt.ZoomLineSearch: Iter: 30, Stepsize: 1.862645149230957e-06, Decrease error: 530456.9846604418, Curvature error: 569610116587.2947\n",
      "WARNING: jaxopt.ZoomLineSearch: Consider augmenting the maximal number of linesearch iterations.\n",
      "WARNING: jaxopt.ZoomLineSearch: Making an unsafe step, not decreasing enough the objective. Convergence of the solver is compromised as it does not reduce values.\n",
      "WARNING: jaxopt.ZoomLineSearch: Linesearch failed, no stepsize satisfying sufficient decrease found.\n",
      "INFO: jaxopt.ZoomLineSearch: Iter: 30, Stepsize: 1.862645149230957e-06, Decrease error: 89914169.39108573, Curvature error: 96577751405046.03\n",
      "WARNING: jaxopt.ZoomLineSearch: Consider augmenting the maximal number of linesearch iterations.\n",
      "WARNING: jaxopt.ZoomLineSearch: Making an unsafe step, not decreasing enough the objective. Convergence of the solver is compromised as it does not reduce values.\n",
      "WARNING: jaxopt.ZoomLineSearch: Linesearch failed, no stepsize satisfying sufficient decrease found.\n",
      "INFO: jaxopt.ZoomLineSearch: Iter: 30, Stepsize: 1.862645149230957e-06, Decrease error: 510527.8611985789, Curvature error: 548211940886.5322\n",
      "WARNING: jaxopt.ZoomLineSearch: Consider augmenting the maximal number of linesearch iterations.\n",
      "WARNING: jaxopt.ZoomLineSearch: Making an unsafe step, not decreasing enough the objective. Convergence of the solver is compromised as it does not reduce values.\n"
     ]
    },
    {
     "name": "stderr",
     "output_type": "stream",
     "text": [
      "2024-11-28 15:59:19.483013: E external/xla/xla/service/slow_operation_alarm.cc:133] The operation took 15m15.729872s\n",
      "\n",
      "********************************\n",
      "[Compiling module jit_update] Very slow compile? If you want to file a bug, run with envvar XLA_FLAGS=--xla_dump_to=/tmp/foo and attach the results.\n",
      "********************************\n"
     ]
    },
    {
     "name": "stdout",
     "output_type": "stream",
     "text": [
      "WARNING: jaxopt.ZoomLineSearch: Linesearch failed, no stepsize satisfying sufficient decrease found.\n",
      "INFO: jaxopt.ZoomLineSearch: Iter: 30, Stepsize: 1.862645149230957e-06, Decrease error: 106264352.42345546, Curvature error: 114136018898800.6\n",
      "WARNING: jaxopt.ZoomLineSearch: Consider augmenting the maximal number of linesearch iterations.\n",
      "WARNING: jaxopt.ZoomLineSearch: Making an unsafe step, not decreasing enough the objective. Convergence of the solver is compromised as it does not reduce values.\n",
      "WARNING: jaxopt.ZoomLineSearch: Linesearch failed, no stepsize satisfying sufficient decrease found.\n",
      "INFO: jaxopt.ZoomLineSearch: Iter: 30, Stepsize: 1.862645149230957e-06, Decrease error: 512878.6747378561, Curvature error: 550734970221.6725\n",
      "WARNING: jaxopt.ZoomLineSearch: Consider augmenting the maximal number of linesearch iterations.\n",
      "WARNING: jaxopt.ZoomLineSearch: Making an unsafe step, not decreasing enough the objective. Convergence of the solver is compromised as it does not reduce values.\n",
      "WARNING: jaxopt.ZoomLineSearch: Linesearch failed, no stepsize satisfying sufficient decrease found.\n",
      "INFO: jaxopt.ZoomLineSearch: Iter: 30, Stepsize: 1.862645149230957e-06, Decrease error: 90852952.96078613, Curvature error: 97585946634430.05\n",
      "WARNING: jaxopt.ZoomLineSearch: Consider augmenting the maximal number of linesearch iterations.\n",
      "WARNING: jaxopt.ZoomLineSearch: Making an unsafe step, not decreasing enough the objective. Convergence of the solver is compromised as it does not reduce values.\n",
      "WARNING: jaxopt.ZoomLineSearch: Linesearch failed, no stepsize satisfying sufficient decrease found.\n",
      "INFO: jaxopt.ZoomLineSearch: Iter: 30, Stepsize: 1.862645149230957e-06, Decrease error: 515152.28567569004, Curvature error: 553176885682.5309\n",
      "WARNING: jaxopt.ZoomLineSearch: Consider augmenting the maximal number of linesearch iterations.\n",
      "WARNING: jaxopt.ZoomLineSearch: Making an unsafe step, not decreasing enough the objective. Convergence of the solver is compromised as it does not reduce values.\n"
     ]
    }
   ],
   "source": [
    "opt_lnfluxvar_betas_zetas(alphas_P49_kfold, betas_P49_kfold, zetas_P49_kfold, lab_data, spec_data, ln_noise_fluxes_init, 1000, omega, name='latent_dim_49_L2reg')"
   ]
  },
  {
   "cell_type": "code",
   "execution_count": 35,
   "metadata": {},
   "outputs": [
    {
     "name": "stderr",
     "output_type": "stream",
     "text": [
      "/var/folders/rq/q7l_wtbx4sx5ky0yrvbk7fgh0000gq/T/ipykernel_27152/1617058487.py:10: TqdmDeprecationWarning: This function will be removed in tqdm==5.0.0\n",
      "Please use `tqdm.notebook.tqdm` instead of `tqdm.tqdm_notebook`\n",
      "  for jndx, j in tqdm.tqdm_notebook(enumerate(alphas)):\n"
     ]
    },
    {
     "data": {
      "application/json": {
       "ascii": false,
       "bar_format": null,
       "colour": null,
       "elapsed": 0.002259969711303711,
       "initial": 0,
       "n": 0,
       "ncols": null,
       "nrows": null,
       "postfix": null,
       "prefix": "",
       "rate": null,
       "total": null,
       "unit": "it",
       "unit_divisor": 1000,
       "unit_scale": false
      },
      "application/vnd.jupyter.widget-view+json": {
       "model_id": "e5b83b83830e469286e972730bafff5a",
       "version_major": 2,
       "version_minor": 0
      },
      "text/plain": [
       "0it [00:00, ?it/s]"
      ]
     },
     "metadata": {},
     "output_type": "display_data"
    },
    {
     "name": "stdout",
     "output_type": "stream",
     "text": [
      "WARNING: jaxopt.ZoomLineSearch: Linesearch failed, no stepsize satisfying sufficient decrease found.\n",
      "INFO: jaxopt.ZoomLineSearch: Iter: 30, Stepsize: 1.862645149230957e-06, Decrease error: 97804130.17665453, Curvature error: 105040547023005.66\n",
      "WARNING: jaxopt.ZoomLineSearch: Consider augmenting the maximal number of linesearch iterations.\n",
      "WARNING: jaxopt.ZoomLineSearch: Making an unsafe step, not decreasing enough the objective. Convergence of the solver is compromised as it does not reduce values.\n",
      "WARNING: jaxopt.ZoomLineSearch: Linesearch failed, no stepsize satisfying sufficient decrease found.\n",
      "INFO: jaxopt.ZoomLineSearch: Iter: 30, Stepsize: 1.862645149230957e-06, Decrease error: 945218.8078770577, Curvature error: 1014957403949.9899\n",
      "WARNING: jaxopt.ZoomLineSearch: Consider augmenting the maximal number of linesearch iterations.\n",
      "WARNING: jaxopt.ZoomLineSearch: Making an unsafe step, not decreasing enough the objective. Convergence of the solver is compromised as it does not reduce values.\n",
      "WARNING: jaxopt.ZoomLineSearch: Linesearch failed, no stepsize satisfying sufficient decrease found.\n",
      "INFO: jaxopt.ZoomLineSearch: Iter: 30, Stepsize: 1.862645149230957e-06, Decrease error: 89995054.20696186, Curvature error: 96655538731608.61\n",
      "WARNING: jaxopt.ZoomLineSearch: Consider augmenting the maximal number of linesearch iterations.\n",
      "WARNING: jaxopt.ZoomLineSearch: Making an unsafe step, not decreasing enough the objective. Convergence of the solver is compromised as it does not reduce values.\n",
      "WARNING: jaxopt.ZoomLineSearch: Linesearch failed, no stepsize satisfying sufficient decrease found.\n",
      "INFO: jaxopt.ZoomLineSearch: Iter: 30, Stepsize: 1.862645149230957e-06, Decrease error: 1011276.2638520638, Curvature error: 1085887896832.0148\n",
      "WARNING: jaxopt.ZoomLineSearch: Consider augmenting the maximal number of linesearch iterations.\n",
      "WARNING: jaxopt.ZoomLineSearch: Making an unsafe step, not decreasing enough the objective. Convergence of the solver is compromised as it does not reduce values.\n",
      "WARNING: jaxopt.ZoomLineSearch: Linesearch failed, no stepsize satisfying sufficient decrease found.\n",
      "INFO: jaxopt.ZoomLineSearch: Iter: 30, Stepsize: 1.862645149230957e-06, Decrease error: 84156246.7803292, Curvature error: 90385579588822.02\n",
      "WARNING: jaxopt.ZoomLineSearch: Consider augmenting the maximal number of linesearch iterations.\n",
      "WARNING: jaxopt.ZoomLineSearch: Making an unsafe step, not decreasing enough the objective. Convergence of the solver is compromised as it does not reduce values.\n",
      "WARNING: jaxopt.ZoomLineSearch: Linesearch failed, no stepsize satisfying sufficient decrease found.\n",
      "INFO: jaxopt.ZoomLineSearch: Iter: 30, Stepsize: 1.862645149230957e-06, Decrease error: 1039271.7437237436, Curvature error: 1115948166836.5488\n",
      "WARNING: jaxopt.ZoomLineSearch: Consider augmenting the maximal number of linesearch iterations.\n",
      "WARNING: jaxopt.ZoomLineSearch: Making an unsafe step, not decreasing enough the objective. Convergence of the solver is compromised as it does not reduce values.\n",
      "WARNING: jaxopt.ZoomLineSearch: Linesearch failed, no stepsize satisfying sufficient decrease found.\n",
      "INFO: jaxopt.ZoomLineSearch: Iter: 30, Stepsize: 1.862645149230957e-06, Decrease error: 89984654.94707505, Curvature error: 96645003889406.25\n",
      "WARNING: jaxopt.ZoomLineSearch: Consider augmenting the maximal number of linesearch iterations.\n",
      "WARNING: jaxopt.ZoomLineSearch: Making an unsafe step, not decreasing enough the objective. Convergence of the solver is compromised as it does not reduce values.\n",
      "WARNING: jaxopt.ZoomLineSearch: Linesearch failed, no stepsize satisfying sufficient decrease found.\n",
      "INFO: jaxopt.ZoomLineSearch: Iter: 30, Stepsize: 1.862645149230957e-06, Decrease error: 1088731.7636869126, Curvature error: 1169056341599.866\n",
      "WARNING: jaxopt.ZoomLineSearch: Consider augmenting the maximal number of linesearch iterations.\n",
      "WARNING: jaxopt.ZoomLineSearch: Making an unsafe step, not decreasing enough the objective. Convergence of the solver is compromised as it does not reduce values.\n",
      "WARNING: jaxopt.ZoomLineSearch: Linesearch failed, no stepsize satisfying sufficient decrease found.\n",
      "INFO: jaxopt.ZoomLineSearch: Iter: 30, Stepsize: 1.862645149230957e-06, Decrease error: 105763332.9748465, Curvature error: 113590018671518.23\n",
      "WARNING: jaxopt.ZoomLineSearch: Consider augmenting the maximal number of linesearch iterations.\n",
      "WARNING: jaxopt.ZoomLineSearch: Making an unsafe step, not decreasing enough the objective. Convergence of the solver is compromised as it does not reduce values.\n",
      "WARNING: jaxopt.ZoomLineSearch: Linesearch failed, no stepsize satisfying sufficient decrease found.\n",
      "INFO: jaxopt.ZoomLineSearch: Iter: 30, Stepsize: 1.862645149230957e-06, Decrease error: 1087208.8222484232, Curvature error: 1167420763050.6658\n",
      "WARNING: jaxopt.ZoomLineSearch: Consider augmenting the maximal number of linesearch iterations.\n",
      "WARNING: jaxopt.ZoomLineSearch: Making an unsafe step, not decreasing enough the objective. Convergence of the solver is compromised as it does not reduce values.\n"
     ]
    }
   ],
   "source": [
    "opt_lnfluxvar_betas_zetas(alphas_P97_kfold, betas_P97_kfold, zetas_P97_kfold, lab_data, spec_data, ln_noise_fluxes_init, 1000, omega, name='latent_dim_97_L2reg')"
   ]
  },
  {
   "cell_type": "markdown",
   "metadata": {},
   "source": [
    "# load in the updated optimised params, then compute the new zetas for the test set, and estimate the model accuracy"
   ]
  },
  {
   "cell_type": "code",
   "execution_count": 6,
   "metadata": {},
   "outputs": [],
   "source": [
    "# P = 13\n",
    "#  Omega = 0.1 \n",
    "latent_dim = '97'\n",
    "l2strength = '0point1'\n",
    "loadpath = '../sav/paper/5-fold-latent_dim_'+latent_dim+'_L2reg'+l2strength\n",
    "betas_omega0_kfold = jnp.load(loadpath+'-betas_.npy', allow_pickle=True)\n",
    "zetas_omega0_kfold = jnp.load(loadpath+'-zetas_.npy', allow_pickle=True)\n",
    "noisefluxes_omega0_kfold = jnp.load(loadpath+'-ln_noise_fluxes_.npy', allow_pickle=True)\n",
    "\n",
    "# Omega = 1 \n",
    "l2strength = '1'\n",
    "loadpath = '../sav/paper/5-fold-latent_dim_'+latent_dim+'_L2reg'+l2strength\n",
    "betas_omega1_kfold = jnp.load(loadpath+'-betas_.npy', allow_pickle=True)\n",
    "zetas_omega1_kfold = jnp.load(loadpath+'-zetas_.npy', allow_pickle=True)\n",
    "noisefluxes_omega1_kfold = jnp.load(loadpath+'-ln_noise_fluxes_.npy', allow_pickle=True)\n",
    "\n",
    "# Omega = 10\n",
    "l2strength = '10'\n",
    "loadpath = '../sav/paper/5-fold-latent_dim_'+latent_dim+'_L2reg'+l2strength\n",
    "betas_omega10_kfold = jnp.load(loadpath+'-betas_.npy', allow_pickle=True)\n",
    "zetas_omega10_kfold = jnp.load(loadpath+'-zetas_.npy', allow_pickle=True)\n",
    "noisefluxes_omega10_kfold = jnp.load(loadpath+'-ln_noise_fluxes_.npy', allow_pickle=True)\n",
    "\n",
    "# Omega = 100\n",
    "l2strength = '100'\n",
    "loadpath = '../sav/paper/5-fold-latent_dim_'+latent_dim+'_L2reg'+l2strength\n",
    "betas_omega100_kfold = jnp.load(loadpath+'-betas_.npy', allow_pickle=True)\n",
    "zetas_omega100_kfold = jnp.load(loadpath+'-zetas_.npy', allow_pickle=True)\n",
    "noisefluxes_omega100_kfold = jnp.load(loadpath+'-ln_noise_fluxes_.npy', allow_pickle=True)\n",
    "\n",
    "# Omega = 1000\n",
    "l2strength = '1000'\n",
    "loadpath = '../sav/paper/5-fold-latent_dim_'+latent_dim+'_L2reg'+l2strength\n",
    "betas_omega1000_kfold = jnp.load(loadpath+'-betas_.npy', allow_pickle=True)\n",
    "zetas_omega1000_kfold = jnp.load(loadpath+'-zetas_.npy', allow_pickle=True)\n",
    "noisefluxes_omega1000_kfold = jnp.load(loadpath+'-ln_noise_fluxes_.npy', allow_pickle=True)\n"
   ]
  },
  {
   "cell_type": "code",
   "execution_count": 45,
   "metadata": {},
   "outputs": [],
   "source": [
    "P = 97\n",
    "alphas_init_test, betas_init_test, zetas_init_test = kf.init_params_kfold(lab_data['labels_test'], spec_data['fluxes_test'], P)\n"
   ]
  },
  {
   "cell_type": "code",
   "execution_count": 46,
   "metadata": {},
   "outputs": [
    {
     "name": "stderr",
     "output_type": "stream",
     "text": [
      "/var/folders/rq/q7l_wtbx4sx5ky0yrvbk7fgh0000gq/T/ipykernel_27152/2808713210.py:3: TqdmDeprecationWarning: This function will be removed in tqdm==5.0.0\n",
      "Please use `tqdm.notebook.tqdm` instead of `tqdm.tqdm_notebook`\n",
      "  for indx, i in tqdm.tqdm_notebook(enumerate(spec_data['fluxes_test'])):\n"
     ]
    },
    {
     "data": {
      "application/json": {
       "ascii": false,
       "bar_format": null,
       "colour": null,
       "elapsed": 0.002485036849975586,
       "initial": 0,
       "n": 0,
       "ncols": null,
       "nrows": null,
       "postfix": null,
       "prefix": "",
       "rate": null,
       "total": null,
       "unit": "it",
       "unit_divisor": 1000,
       "unit_scale": false
      },
      "application/vnd.jupyter.widget-view+json": {
       "model_id": "62c6821d5a82487580c95f24b66cfb87",
       "version_major": 2,
       "version_minor": 0
      },
      "text/plain": [
       "0it [00:00, ?it/s]"
      ]
     },
     "metadata": {},
     "output_type": "display_data"
    },
    {
     "name": "stdout",
     "output_type": "stream",
     "text": [
      "WARNING: jaxopt.ZoomLineSearch: Linesearch failed, no stepsize satisfying sufficient decrease found.\n",
      "INFO: jaxopt.ZoomLineSearch: Iter: 30, Stepsize: 1.862645149230957e-06, Decrease error: 2193875213965.8945, Curvature error: 2.3558006150955305e+18\n",
      "WARNING: jaxopt.ZoomLineSearch: Consider augmenting the maximal number of linesearch iterations.\n",
      "WARNING: jaxopt.ZoomLineSearch: Making an unsafe step, not decreasing enough the objective. Convergence of the solver is compromised as it does not reduce values.\n",
      "WARNING: jaxopt.ZoomLineSearch: Linesearch failed, no stepsize satisfying sufficient decrease found.\n",
      "INFO: jaxopt.ZoomLineSearch: Iter: 30, Stepsize: 1.862645149230957e-06, Decrease error: 2314708405468.9727, Curvature error: 2.485559611545033e+18\n",
      "WARNING: jaxopt.ZoomLineSearch: Consider augmenting the maximal number of linesearch iterations.\n",
      "WARNING: jaxopt.ZoomLineSearch: Making an unsafe step, not decreasing enough the objective. Convergence of the solver is compromised as it does not reduce values.\n",
      "WARNING: jaxopt.ZoomLineSearch: Linesearch failed, no stepsize satisfying sufficient decrease found.\n",
      "INFO: jaxopt.ZoomLineSearch: Iter: 30, Stepsize: 1.862645149230957e-06, Decrease error: 2107807915240.1611, Curvature error: 2.2633736826152422e+18\n",
      "WARNING: jaxopt.ZoomLineSearch: Consider augmenting the maximal number of linesearch iterations.\n",
      "WARNING: jaxopt.ZoomLineSearch: Making an unsafe step, not decreasing enough the objective. Convergence of the solver is compromised as it does not reduce values.\n",
      "WARNING: jaxopt.ZoomLineSearch: Linesearch failed, no stepsize satisfying sufficient decrease found.\n",
      "INFO: jaxopt.ZoomLineSearch: Iter: 30, Stepsize: 1.862645149230957e-06, Decrease error: 2110140061039.332, Curvature error: 2.2658700723117586e+18\n",
      "WARNING: jaxopt.ZoomLineSearch: Consider augmenting the maximal number of linesearch iterations.\n",
      "WARNING: jaxopt.ZoomLineSearch: Making an unsafe step, not decreasing enough the objective. Convergence of the solver is compromised as it does not reduce values.\n",
      "WARNING: jaxopt.ZoomLineSearch: Linesearch failed, no stepsize satisfying sufficient decrease found.\n",
      "INFO: jaxopt.ZoomLineSearch: Iter: 30, Stepsize: 1.862645149230957e-06, Decrease error: 2168529689318.2935, Curvature error: 2.32859768075732e+18\n",
      "WARNING: jaxopt.ZoomLineSearch: Consider augmenting the maximal number of linesearch iterations.\n",
      "WARNING: jaxopt.ZoomLineSearch: Making an unsafe step, not decreasing enough the objective. Convergence of the solver is compromised as it does not reduce values.\n"
     ]
    }
   ],
   "source": [
    "zetas_test_ = []\n",
    "omeganame = '_L2reg1000-zetas-test'\n",
    "for indx, i in tqdm.tqdm_notebook(enumerate(spec_data['fluxes_test'])):\n",
    "    res = opt_sc.get_zetas_test_using_fluxes(i, spec_data['fluxes_test_ivars'][indx], betas_omega1000_kfold[indx], zetas_init_test[indx], noisefluxes_omega1000_kfold[indx])\n",
    "    zetas_test_.append(res.params['zetas'])\n",
    "\n",
    "jnp.save(savepath+'latent_dim_'+str(P)+omeganame, jnp.array(zetas_test_))"
   ]
  },
  {
   "cell_type": "code",
   "execution_count": 28,
   "metadata": {},
   "outputs": [],
   "source": [
    "def chi2_labels(labels, labels_ivars, alphas, zetas):\n",
    "    return jnp.nansum((labels - zetas@alphas.T)**2 * labels_ivars)\n",
    "\n",
    "def chi2_fluxes(fluxes, fluxes_ivars, betas, zetas, ln_noise_fluxes):\n",
    "    V = jnp.exp(2 * ln_noise_fluxes)\n",
    "    noise = 1./ fluxes_ivars + V \n",
    "    return jnp.nansum((fluxes - zetas@betas.T)**2 / noise)\n",
    "\n",
    "def chi2_total(labels, labels_ivars, fluxes, fluxes_ivars, alphas, betas, zetas, ln_noise_fluxes):\n",
    "    chi2_l = chi2_labels(labels, labels_ivars, alphas, zetas)\n",
    "    chi2_f = chi2_fluxes(fluxes, fluxes_ivars, betas, zetas, ln_noise_fluxes)\n",
    "    return chi2_l + chi2_f\n",
    "\n",
    "def calc_chi2(labels, labels_ivars, fluxes, fluxes_ivars, alphas, betas, zetas, ln_noise_fluxes):\n",
    "\n",
    "    chi2_l = chi2_labels(labels, labels_ivars, alphas, zetas)\n",
    "    chi2_f = chi2_fluxes(fluxes, fluxes_ivars, betas, zetas, ln_noise_fluxes)\n",
    "    chi2 = chi2_total(labels, labels_ivars, fluxes, fluxes_ivars, alphas, betas, zetas, ln_noise_fluxes)\n",
    "    return chi2_l, chi2_f, chi2\n"
   ]
  },
  {
   "cell_type": "code",
   "execution_count": 68,
   "metadata": {},
   "outputs": [
    {
     "name": "stderr",
     "output_type": "stream",
     "text": [
      "/var/folders/rq/q7l_wtbx4sx5ky0yrvbk7fgh0000gq/T/ipykernel_42229/3940736460.py:8: TqdmDeprecationWarning: This function will be removed in tqdm==5.0.0\n",
      "Please use `tqdm.notebook.tqdm` instead of `tqdm.tqdm_notebook`\n",
      "  for indx, i in tqdm.tqdm_notebook(enumerate(latent_dims)):\n"
     ]
    },
    {
     "data": {
      "application/json": {
       "ascii": false,
       "bar_format": null,
       "colour": null,
       "elapsed": 0.003326892852783203,
       "initial": 0,
       "n": 0,
       "ncols": null,
       "nrows": null,
       "postfix": null,
       "prefix": "",
       "rate": null,
       "total": null,
       "unit": "it",
       "unit_divisor": 1000,
       "unit_scale": false
      },
      "application/vnd.jupyter.widget-view+json": {
       "model_id": "828eb38504554fd5b957203399bfe929",
       "version_major": 2,
       "version_minor": 0
      },
      "text/plain": [
       "0it [00:00, ?it/s]"
      ]
     },
     "metadata": {},
     "output_type": "display_data"
    }
   ],
   "source": [
    "latent_dims = [13, 25, 49, 97]\n",
    "regstrength = ['0point1', '1', '10', '100', '1000']\n",
    "\n",
    "chi2_lab = []\n",
    "chi2_flux = []\n",
    "chi2_tot = []\n",
    "\n",
    "for indx, i in tqdm.tqdm_notebook(enumerate(latent_dims)):\n",
    "    for jndx, j in enumerate(regstrength):\n",
    "        alphas_kfold = np.load(savepath+'latent_dim_'+str(i)+'-alphas.npy', allow_pickle=True)\n",
    "        betas_kfold = np.load(savepath+'latent_dim_'+str(i)+'_L2reg'+j+'-betas_.npy', allow_pickle=True)\n",
    "        zetas_kfold_test = np.load(savepath+'latent_dim_'+str(i)+'_L2reg'+j+'-zetas-test.npy', allow_pickle=True)\n",
    "        ln_noise_fluxes_kfold = np.load(savepath+'latent_dim_'+str(i)+'_L2reg'+j+'-ln_noise_fluxes_.npy', allow_pickle=True)\n",
    "        \n",
    "        for hndx, h in enumerate(alphas_kfold):\n",
    "            chi2_l, chi2_f, chi2_t = calc_chi2(lab_data['labels_test'][hndx], lab_data['labels_test_ivars'][hndx], \\\n",
    "                                                spec_data['fluxes_test'][hndx], spec_data['fluxes_test_ivars'][hndx],\\\n",
    "                                                alphas_kfold[hndx], betas_kfold[hndx], zetas_kfold_test[hndx], ln_noise_fluxes_kfold[hndx])\n",
    "\n",
    "            chi2_lab.append(chi2_l)\n",
    "            chi2_flux.append(chi2_f)\n",
    "            chi2_tot.append(chi2_t)\n",
    "\n",
    "\n"
   ]
  },
  {
   "cell_type": "markdown",
   "metadata": {},
   "source": []
  },
  {
   "cell_type": "code",
   "execution_count": 70,
   "metadata": {},
   "outputs": [],
   "source": [
    "a = jnp.array(chi2_lab).reshape(4,5,5)\n",
    "b = jnp.array(chi2_flux).reshape(4,5,5)\n",
    "c = jnp.array(chi2_tot).reshape(4,5,5)\n",
    "\n",
    "a_per = np.percentile(a, [16,50,84], axis=2)\n",
    "b_per = np.percentile(b, [16,50,84], axis=2)\n",
    "c_per = np.percentile(c, [16,50,84], axis=2)\n",
    "\n",
    "a_median = np.median(a, axis=2)\n",
    "b_median = np.median(b, axis=2)\n",
    "c_median = np.median(c, axis=2)"
   ]
  },
  {
   "cell_type": "code",
   "execution_count": 71,
   "metadata": {},
   "outputs": [],
   "source": [
    "jnp.save(savepath+'percentiles_chi2_labels_kfold', a_per)\n",
    "jnp.save(savepath+'percentiles_chi2_fluxes_kfold', b_per)\n",
    "jnp.save(savepath+'percentiles_chi2_total_kfold', c_per)\n",
    "\n",
    "jnp.save(savepath+'median_chi2_labels_kfold', a_median)\n",
    "jnp.save(savepath+'median_chi2_fluxes_kfold', b_median)\n",
    "jnp.save(savepath+'median_chi2_total_kfold', c_median)"
   ]
  },
  {
   "cell_type": "code",
   "execution_count": 72,
   "metadata": {},
   "outputs": [],
   "source": [
    "a_per = jnp.load(savepath+'percentiles_chi2_labels_kfold.npy', allow_pickle=True)\n",
    "b_per = jnp.load(savepath+'percentiles_chi2_fluxes_kfold.npy', allow_pickle=True)\n",
    "c_per = jnp.load(savepath+'percentiles_chi2_total_kfold.npy', allow_pickle=True)\n",
    "\n",
    "a_median = jnp.load(savepath+'median_chi2_labels_kfold.npy', allow_pickle = True)\n",
    "b_median = jnp.load(savepath+'median_chi2_fluxes_kfold.npy', allow_pickle = True)\n",
    "c_median = jnp.load(savepath+'median_chi2_total_kfold.npy', allow_pickle = True)"
   ]
  },
  {
   "cell_type": "markdown",
   "metadata": {},
   "source": [
    "# now compute the test zetas from the labels"
   ]
  },
  {
   "cell_type": "code",
   "execution_count": 73,
   "metadata": {},
   "outputs": [],
   "source": [
    "P = 13\n",
    "alphas_init_test, betas_init_test, zetas_init_test = kf.init_params_kfold(lab_data['labels_test'], spec_data['fluxes_test'], P)\n"
   ]
  },
  {
   "cell_type": "code",
   "execution_count": 26,
   "metadata": {},
   "outputs": [
    {
     "name": "stderr",
     "output_type": "stream",
     "text": [
      "/var/folders/rq/q7l_wtbx4sx5ky0yrvbk7fgh0000gq/T/ipykernel_42229/714015611.py:3: TqdmDeprecationWarning: This function will be removed in tqdm==5.0.0\n",
      "Please use `tqdm.notebook.tqdm` instead of `tqdm.tqdm_notebook`\n",
      "  for indx, i in tqdm.tqdm_notebook(enumerate(lab_data['labels_test'])):\n"
     ]
    },
    {
     "data": {
      "application/json": {
       "ascii": false,
       "bar_format": null,
       "colour": null,
       "elapsed": 0.011038780212402344,
       "initial": 0,
       "n": 0,
       "ncols": null,
       "nrows": null,
       "postfix": null,
       "prefix": "",
       "rate": null,
       "total": null,
       "unit": "it",
       "unit_divisor": 1000,
       "unit_scale": false
      },
      "application/vnd.jupyter.widget-view+json": {
       "model_id": "6f31cdc620c14b348a90ed4afece88e6",
       "version_major": 2,
       "version_minor": 0
      },
      "text/plain": [
       "0it [00:00, ?it/s]"
      ]
     },
     "metadata": {},
     "output_type": "display_data"
    }
   ],
   "source": [
    "zetas_test_fromlabels = []\n",
    "omeganame = 'zetas-test-fromlabels'\n",
    "for indx, i in tqdm.tqdm_notebook(enumerate(lab_data['labels_test'])):\n",
    "    res = opt_sc.get_zetas_test_using_labels(i, lab_data['labels_test_ivars'][indx], alphas_P13_kfold[indx], zetas_init_test[indx])\n",
    "    zetas_test_fromlabels.append(res.params['zetas'])\n",
    "\n",
    "jnp.save(savepath+'latent_dim_'+str(P)+omeganame, jnp.array(zetas_test_fromlabels))"
   ]
  },
  {
   "cell_type": "code",
   "execution_count": 29,
   "metadata": {},
   "outputs": [
    {
     "name": "stderr",
     "output_type": "stream",
     "text": [
      "/var/folders/rq/q7l_wtbx4sx5ky0yrvbk7fgh0000gq/T/ipykernel_42229/2570286633.py:8: TqdmDeprecationWarning: This function will be removed in tqdm==5.0.0\n",
      "Please use `tqdm.notebook.tqdm` instead of `tqdm.tqdm_notebook`\n",
      "  for indx, i in tqdm.tqdm_notebook(enumerate(latent_dims)):\n"
     ]
    },
    {
     "data": {
      "application/json": {
       "ascii": false,
       "bar_format": null,
       "colour": null,
       "elapsed": 0.0027370452880859375,
       "initial": 0,
       "n": 0,
       "ncols": null,
       "nrows": null,
       "postfix": null,
       "prefix": "",
       "rate": null,
       "total": null,
       "unit": "it",
       "unit_divisor": 1000,
       "unit_scale": false
      },
      "application/vnd.jupyter.widget-view+json": {
       "model_id": "51ee21e52d56445da33c56d6575de844",
       "version_major": 2,
       "version_minor": 0
      },
      "text/plain": [
       "0it [00:00, ?it/s]"
      ]
     },
     "metadata": {},
     "output_type": "display_data"
    }
   ],
   "source": [
    "latent_dims = [13, 25, 49, 97]\n",
    "regstrength = ['0point1', '1', '10', '100', '1000']\n",
    "\n",
    "chi2_lab_fromlabels = []\n",
    "chi2_flux_fromlabels = []\n",
    "chi2_tot_fromlabels = []\n",
    "\n",
    "for indx, i in tqdm.tqdm_notebook(enumerate(latent_dims)):\n",
    "    for jndx, j in enumerate(regstrength):\n",
    "        alphas_kfold = np.load(savepath+'latent_dim_'+str(i)+'-alphas.npy', allow_pickle=True)\n",
    "        betas_kfold = np.load(savepath+'latent_dim_'+str(i)+'_L2reg'+j+'-betas_.npy', allow_pickle=True)\n",
    "        zetas_kfold_test = np.load(savepath+'latent_dim_'+str(i)+'zetas-test-fromlabels.npy', allow_pickle=True)\n",
    "        ln_noise_fluxes_kfold = np.load(savepath+'latent_dim_'+str(i)+'_L2reg'+j+'-ln_noise_fluxes_.npy', allow_pickle=True)\n",
    "        \n",
    "        for hndx, h in enumerate(alphas_kfold):\n",
    "            chi2_l, chi2_f, chi2_t = calc_chi2(lab_data['labels_test'][hndx], lab_data['labels_test_ivars'][hndx], \\\n",
    "                                                spec_data['fluxes_test'][hndx], spec_data['fluxes_test_ivars'][hndx],\\\n",
    "                                                alphas_kfold[hndx], betas_kfold[hndx], zetas_kfold_test[hndx], ln_noise_fluxes_kfold[hndx])\n",
    "\n",
    "            chi2_lab_fromlabels.append(chi2_l)\n",
    "            chi2_flux_fromlabels.append(chi2_f)\n",
    "            chi2_tot_fromlabels.append(chi2_t)\n",
    "\n",
    "\n"
   ]
  },
  {
   "cell_type": "code",
   "execution_count": 74,
   "metadata": {},
   "outputs": [],
   "source": [
    "a_l = jnp.array(chi2_lab_fromlabels).reshape(4,5,5)\n",
    "b_l = jnp.array(chi2_flux_fromlabels).reshape(4,5,5)\n",
    "c_l = jnp.array(chi2_tot_fromlabels).reshape(4,5,5)\n",
    "\n",
    "a_per_l = np.percentile(a_l, [16,50,84], axis=2)\n",
    "b_per_l = np.percentile(b_l, [16,50,84], axis=2)\n",
    "c_per_l = np.percentile(c_l, [16,50,84], axis=2)\n",
    "\n",
    "a_median_l = np.median(a_l, axis=2)\n",
    "b_median_l = np.median(b_l, axis=2)\n",
    "c_median_l = np.median(c_l, axis=2)"
   ]
  },
  {
   "cell_type": "code",
   "execution_count": 75,
   "metadata": {},
   "outputs": [],
   "source": [
    "jnp.save(savepath+'percentiles_chi2_labels_kfold', a_per_l)\n",
    "jnp.save(savepath+'percentiles_chi2_fluxes_kfold', b_per_l)\n",
    "jnp.save(savepath+'percentiles_chi2_total_kfold', c_per_l)\n",
    "\n",
    "jnp.save(savepath+'median_chi2_labels_kfold', a_median_l)\n",
    "jnp.save(savepath+'median_chi2_fluxes_kfold', b_median_l)\n",
    "jnp.save(savepath+'median_chi2_total_kfold', c_median_l)"
   ]
  },
  {
   "cell_type": "markdown",
   "metadata": {},
   "source": [
    "# plot the results"
   ]
  },
  {
   "cell_type": "code",
   "execution_count": 35,
   "metadata": {},
   "outputs": [],
   "source": [
    "colores = ['navy', 'royalblue', 'dodgerblue', 'cyan']\n",
    "nombres = ['$P = 13$', '$P = 25$', '$P = 49$', '$P = 97$']"
   ]
  },
  {
   "cell_type": "code",
   "execution_count": 84,
   "metadata": {},
   "outputs": [
    {
     "data": {
      "image/png": "[encoded data removed]",
      "text/plain": [
       "<Figure size 1008x360 with 2 Axes>"
      ]
     },
     "metadata": {},
     "output_type": "display_data"
    }
   ],
   "source": [
    "plt.figure(figsize=(14,5), facecolor='white', rasterized=True)\n",
    "\n",
    "plt.suptitle('5-fold cross validation results for high-SNR giants', fontsize=40, y=1.1)\n",
    "for indx, i in enumerate(c_median):\n",
    "\n",
    "    plt.subplot(1,2,1)\n",
    "    plt.title('Median $\\chi^{2}$ computing Z from fluxes', fontsize=25, pad=10)\n",
    "    plt.plot(regstrength[1:], i[1:]/1e7, label=nombres[indx], color = colores[indx], lw=2)\n",
    "    plt.scatter(regstrength[1:], i[1:]/1e7, color = colores[indx], s=150, edgecolors='k')\n",
    "    plt.ylabel('$\\chi^{2}$ ($10^{7}$)', fontsize=25)\n",
    "    # plt.ylim(0.6, )\n",
    "    plt.xlabel('Regularization strength, $\\Omega$', fontsize=25)\n",
    "    plt.tick_params(labelsize=25,direction='in',top=True,right=True,length=6,pad=10)\n",
    "    plt.tick_params(which='major',labelsize=20,direction='in',top=True,right=True,length=10)\n",
    "    plt.tick_params(which='minor', length=6, direction='in',top=True,right=True)\n",
    "    plt.minorticks_on()\n",
    "\n",
    "    plt.subplot(1,2,2)\n",
    "    plt.title('Median $\\chi^{2}$ computing Z from labels', fontsize=25, pad=10)\n",
    "    plt.plot(regstrength[1:], c_median_l[indx][1:]/1e7, label=nombres[indx], color = colores[indx], lw=2)\n",
    "    plt.scatter(regstrength[1:], c_median_l[indx][1:]/1e7, color = colores[indx], s=150, edgecolors='k')\n",
    "    plt.legend(loc='center right', frameon =False, fontsize=18, ncol=2)\n",
    "    # plt.ylabel('$\\chi^{2}$ ($10^{7}$)', fontsize=25)\n",
    "    # plt.ylim(0.6, )\n",
    "    plt.xlabel('Regularization strength, $\\Omega$', fontsize=25)\n",
    "    plt.tick_params(labelsize=25,direction='in',top=True,right=True,length=6,pad=10)\n",
    "    plt.tick_params(which='major',labelsize=20,direction='in',top=True,right=True,length=10)\n",
    "    plt.tick_params(which='minor', length=6, direction='in',top=True,right=True)\n",
    "    plt.minorticks_on()\n",
    "\n",
    "plt.savefig('../plots/paper/chi2_median_Kfold.pdf',dpi=200, bbox_inches = 'tight')\n",
    "    "
   ]
  },
  {
   "cell_type": "code",
   "execution_count": 293,
   "metadata": {},
   "outputs": [
    {
     "data": {
      "image/png": "[encoded data removed]",
      "text/plain": [
       "<Figure size 504x360 with 1 Axes>"
      ]
     },
     "metadata": {},
     "output_type": "display_data"
    }
   ],
   "source": [
    "plt.figure(figsize=(7,5), constrained_layout=True, facecolor='white', rasterized=True)\n",
    "\n",
    "for indx, i in enumerate(a_median):\n",
    "\n",
    "    plt.title('Median label $\\chi^{2}$ for 5-fold CV', fontsize=25, pad=10)\n",
    "    plt.plot(regstrength[1:], i[1:]/1e5, label=nombres[indx], color = colores[indx], lw=2)\n",
    "    plt.scatter(regstrength[1:], i[1:]/1e5, color = colores[indx], s=150, edgecolors='k')\n",
    "    plt.legend(loc='upper right', frameon =False, fontsize=18, ncol=2)\n",
    "    plt.ylabel('$\\chi^{2}$ ($10^{5}$)', fontsize=25)\n",
    "    plt.ylim(0.7,2.3)\n",
    "    plt.xlabel('Regularization strength, $\\Omega$', fontsize=25)\n",
    "    plt.tick_params(labelsize=25,direction='in',top=True,right=True,length=6,pad=10)\n",
    "    plt.tick_params(which='major',labelsize=20,direction='in',top=True,right=True,length=10)\n",
    "    plt.tick_params(which='minor', length=6, direction='in',top=True,right=True)\n",
    "    plt.minorticks_on()\n",
    "\n",
    "    plt.savefig('../plots/paper/chi2_median_labels_Kfold.pdf',dpi=200, bbox_inches = 'tight')"
   ]
  },
  {
   "cell_type": "code",
   "execution_count": 294,
   "metadata": {},
   "outputs": [
    {
     "data": {
      "image/png": "[encoded data removed]",
      "text/plain": [
       "<Figure size 504x360 with 1 Axes>"
      ]
     },
     "metadata": {},
     "output_type": "display_data"
    }
   ],
   "source": [
    "plt.figure(figsize=(7,5), constrained_layout=True, facecolor='white', rasterized=True)\n",
    "\n",
    "for indx, i in enumerate(b_median):\n",
    "\n",
    "    plt.title('Median flux $\\chi^{2}$ for 5-fold CV', fontsize=25, pad=10)\n",
    "    plt.plot(regstrength[1:], i[1:]/1e7, label=nombres[indx], color = colores[indx], lw=2)\n",
    "    plt.scatter(regstrength[1:], i[1:]/1e7, color = colores[indx], s=150, edgecolors='k')\n",
    "    plt.legend(loc='upper right', frameon =False, fontsize=18)\n",
    "    plt.ylabel('$\\chi^{2}$ ($10^{7}$)', fontsize=25)\n",
    "    plt.ylim(1.05,1.3)\n",
    "    plt.xlabel('Regularization strength, $\\Omega$', fontsize=25)\n",
    "    plt.tick_params(labelsize=25,direction='in',top=True,right=True,length=6,pad=10)\n",
    "    plt.tick_params(which='major',labelsize=20,direction='in',top=True,right=True,length=10)\n",
    "    plt.tick_params(which='minor', length=6, direction='in',top=True,right=True)\n",
    "    plt.minorticks_on()\n",
    "\n",
    "    plt.savefig('../plots/paper/chi2_median_fluxes_Kfold.pdf',dpi=200, bbox_inches = 'tight')"
   ]
  },
  {
   "cell_type": "code",
   "execution_count": 216,
   "metadata": {},
   "outputs": [],
   "source": [
    "namesx = [1, 10, 100, 100]\n",
    "namesy = [13, 25, 49, 97]\n",
    "positionsx = [0, 1, 2, 3]\n",
    "positionsy = [0, 1, 2, 3] "
   ]
  },
  {
   "cell_type": "code",
   "execution_count": 218,
   "metadata": {},
   "outputs": [
    {
     "data": {
      "image/png": "[encoded data removed]",
      "text/plain": [
       "<Figure size 504x360 with 2 Axes>"
      ]
     },
     "metadata": {},
     "output_type": "display_data"
    }
   ],
   "source": [
    "c_median_mat = c_median[:,1:]\n",
    "\n",
    "plt.figure(figsize=(7,5), facecolor='white', rasterized=True, constrained_layout=True)\n",
    "plt.title('Median total $\\chi^{2}$ for 5-fold CV', fontsize=22, pad=10)\n",
    "plt.imshow(c_median_mat/1e7, cmap=cm.lavender, vmin=1., vmax=1.25)\n",
    "plt.colorbar()\n",
    "plt.xticks(positionsx, namesx)\n",
    "plt.yticks(positionsy, namesy)\n",
    "plt.xlabel('Regularisation strength, $\\Omega$', fontsize=22)\n",
    "plt.ylabel('Latent dimensionality, $P$', fontsize=22)\n",
    "plt.tick_params(labelsize=20,direction='in',top=True,right=True,length=1)\n"
   ]
  },
  {
   "cell_type": "code",
   "execution_count": 231,
   "metadata": {},
   "outputs": [],
   "source": [
    "jnp.save(savepath+'percentiles_chi2_labels_kfold', a_per)\n",
    "jnp.save(savepath+'percentiles_chi2_fluxes_kfold', b_per)\n",
    "jnp.save(savepath+'percentiles_chi2_total_kfold', c_per)\n",
    "\n",
    "jnp.save(savepath+'median_chi2_labels_kfold', a_median)\n",
    "jnp.save(savepath+'median_chi2_fluxes_kfold', b_median)\n",
    "jnp.save(savepath+'median_chi2_total_kfold', c_median)"
   ]
  }
 ],
 "metadata": {
  "kernelspec": {
   "display_name": "Python 3",
   "language": "python",
   "name": "python3"
  },
  "language_info": {
   "codemirror_mode": {
    "name": "ipython",
    "version": 3
   },
   "file_extension": ".py",
   "mimetype": "text/x-python",
   "name": "python",
   "nbconvert_exporter": "python",
   "pygments_lexer": "ipython3",
   "version": "3.9.12"
  }
 },
 "nbformat": 4,
 "nbformat_minor": 2
}
