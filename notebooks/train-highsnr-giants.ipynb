{
 "cells": [
  {
   "cell_type": "code",
   "execution_count": 1,
   "metadata": {},
   "outputs": [
    {
     "name": "stdout",
     "output_type": "stream",
     "text": [
      "../spec/spectra-reference-stars-APOGEE-giants-ref/spectra_data-train-rgbs-new.dat\n",
      "File already exists. Loading spectra data\n"
     ]
    },
    {
     "name": "stderr",
     "output_type": "stream",
     "text": [
      "24it [00:00, 84.88it/s]"
     ]
    },
    {
     "name": "stdout",
     "output_type": "stream",
     "text": [
      "Loaded data successfully\n"
     ]
    },
    {
     "name": "stderr",
     "output_type": "stream",
     "text": [
      "\n"
     ]
    }
   ],
   "source": [
    "import jax.numpy as jnp\n",
    "import numpy as np\n",
    "import jax\n",
    "jax.config.update(\"jax_enable_x64\", True)\n",
    "from astropy.io import fits\n",
    "import tqdm\n",
    "\n",
    "from matplotlib import rc\n",
    "import matplotlib.pyplot as plt\n",
    "rc('font',**{'family':'serif','serif':['Times']})\n",
    "rc('text', usetex=True)\n",
    "import cmasher as cm\n",
    "\n",
    "import load_data as ld\n",
    "import optimise as opt\n",
    "import scatters as opt_sc\n",
    "import init_latents as il\n",
    "import kfold_cv as kf\n",
    "\n",
    "import time\n",
    "\n",
    "# load the data\n",
    "file_name = '-train-rgbs-new'\n",
    "spectra_dir_path = '../spec/spectra-reference-stars-APOGEE-giants-ref/'\n",
    "file_path = '../data/master-APOGEE-giants-train.fits'\n",
    "spectra_data, label_data = ld.load_data(spectra_dir_path, file_path, file_name)\n",
    "\n",
    "# define the training set\n",
    "train_ID = label_data['ids']\n",
    "train_flux = spectra_data['fluxes']\n",
    "train_flux_err = spectra_data['fluxes_err']\n",
    "train_flux_ivar = spectra_data['fluxes_ivars']\n",
    "train_label = label_data['labels']\n",
    "train_label_err = label_data['labels_err']\n",
    "train_label_ivar = label_data['labels_ivars']"
   ]
  },
  {
   "cell_type": "code",
   "execution_count": 2,
   "metadata": {},
   "outputs": [],
   "source": [
    "train_ID = label_data['ids']\n",
    "train_flux = spectra_data['fluxes']\n",
    "train_flux_err = spectra_data['fluxes_err']\n",
    "train_flux_ivar = spectra_data['fluxes_ivars']\n",
    "train_label = label_data['labels']\n",
    "train_label_err = label_data['labels_err']\n",
    "train_label_ivar = label_data['labels_ivars']\n"
   ]
  },
  {
   "cell_type": "markdown",
   "metadata": {},
   "source": [
    "# First run the optimisation assuming no scatters in the fluxes"
   ]
  },
  {
   "cell_type": "code",
   "execution_count": 3,
   "metadata": {},
   "outputs": [
    {
     "data": {
      "text/plain": [
       "((12, 49), (8575, 49), (5000, 49))"
      ]
     },
     "execution_count": 3,
     "metadata": {},
     "output_type": "execute_result"
    }
   ],
   "source": [
    "P = 49\n",
    "alphas, betas, zetas = il.initialise_alphas_betas_zetas(train_label, train_flux, P)\n",
    "alphas.shape, betas.shape, zetas.shape"
   ]
  },
  {
   "cell_type": "code",
   "execution_count": 4,
   "metadata": {},
   "outputs": [
    {
     "name": "stderr",
     "output_type": "stream",
     "text": [
      "/var/folders/rq/q7l_wtbx4sx5ky0yrvbk7fgh0000gq/T/ipykernel_42849/141839097.py:9: TqdmDeprecationWarning: This function will be removed in tqdm==5.0.0\n",
      "Please use `tqdm.notebook.tqdm` instead of `tqdm.tqdm_notebook`\n",
      "  for iter in tqdm.tqdm_notebook(range(niter)):\n"
     ]
    },
    {
     "data": {
      "application/json": {
       "ascii": false,
       "bar_format": null,
       "colour": null,
       "elapsed": 0.001966238021850586,
       "initial": 0,
       "n": 0,
       "ncols": null,
       "nrows": null,
       "postfix": null,
       "prefix": "",
       "rate": null,
       "total": 5,
       "unit": "it",
       "unit_divisor": 1000,
       "unit_scale": false
      },
      "application/vnd.jupyter.widget-view+json": {
       "model_id": "8bd362abf51a45dda7a94ca00430c569",
       "version_major": 2,
       "version_minor": 0
      },
      "text/plain": [
       "  0%|          | 0/5 [00:00<?, ?it/s]"
      ]
     },
     "metadata": {},
     "output_type": "display_data"
    }
   ],
   "source": [
    "niter = 5\n",
    "alphas_iter = jnp.zeros((niter,) + alphas.shape)\n",
    "betas_iter = jnp.zeros((niter,) + betas.shape)\n",
    "zetas_iter = jnp.zeros((niter,) + zetas.shape)\n",
    "diff_chi2_iter = jnp.zeros((niter))\n",
    "chi2_iter = jnp.zeros((niter))\n",
    "\n",
    "omega = 1.\n",
    "for iter in tqdm.tqdm_notebook(range(niter)):\n",
    "    alphas, betas, zetas, diff_chi2, chi2 = opt.run_agenda(alphas, betas, zetas, train_label, train_label_err, train_flux, train_flux_err, omega)\n",
    "    alphas_iter = alphas_iter.at[iter].set(alphas)\n",
    "    betas_iter = betas_iter.at[iter].set(betas)\n",
    "    zetas_iter = zetas_iter.at[iter].set(zetas)\n",
    "    diff_chi2_iter = diff_chi2_iter.at[iter].set(diff_chi2)\n",
    "    chi2_iter = chi2_iter.at[iter].set(chi2)"
   ]
  },
  {
   "cell_type": "markdown",
   "metadata": {},
   "source": [
    "# save the latents without scatters in the fluxes"
   ]
  },
  {
   "cell_type": "code",
   "execution_count": 5,
   "metadata": {},
   "outputs": [
    {
     "data": {
      "image/png": "[encoded data removed]",
      "text/plain": [
       "<Figure size 504x360 with 1 Axes>"
      ]
     },
     "metadata": {
      "needs_background": "light"
     },
     "output_type": "display_data"
    }
   ],
   "source": [
    "name = '_P49_omega1-train-highsnrgiants'\n",
    "savepath = '../sav/paper/'\n",
    "\n",
    "np.save(savepath+'alphas_giants'+str(name), alphas_iter)\n",
    "np.save(savepath+'betas_giants'+str(name), betas_iter)\n",
    "np.save(savepath+'diff_chi2_giants'+str(name), diff_chi2_iter)\n",
    "np.save(savepath+'chi2_giants'+str(name), chi2_iter)\n",
    "np.save(savepath+'zetas_train_giants'+str(name), zetas_iter)\n",
    "\n",
    "plt.figure(figsize=(7,5), constrained_layout=True)\n",
    "\n",
    "plt.plot(chi2_iter, color='navy', lw=3)\n",
    "plt.ylabel('$\\chi^{2}$', fontsize=20)\n",
    "plt.xlabel('Iteration $\\#$', fontsize=20)\n",
    "plt.yscale('log')\n",
    "plt.tick_params(labelsize=25,direction='in',top=True,right=True,length=6,pad=10)\n",
    "plt.tick_params(which='major',labelsize=20,direction='in',top=True,right=True,length=10)\n",
    "plt.tick_params(which='minor', length=6, direction='in',top=True,right=True)\n",
    "plt.minorticks_on()\n",
    "\n",
    "plt.savefig('../plots/paper/chi2_giants'+str(name)+'.pdf',dpi=200, bbox_inches = 'tight')"
   ]
  },
  {
   "cell_type": "markdown",
   "metadata": {},
   "source": [
    "# now run the optimisation with scatter in the fluxes"
   ]
  },
  {
   "cell_type": "code",
   "execution_count": 6,
   "metadata": {},
   "outputs": [],
   "source": [
    "ln_noise_fluxes_init = jnp.full(train_flux.shape[1], -8.0)\n",
    "l2_reg_strength = 1000"
   ]
  },
  {
   "cell_type": "code",
   "execution_count": 7,
   "metadata": {},
   "outputs": [
    {
     "name": "stdout",
     "output_type": "stream",
     "text": [
      "WARNING: jaxopt.ZoomLineSearch: Linesearch failed, no stepsize satisfying sufficient decrease found.\n",
      "INFO: jaxopt.ZoomLineSearch: Iter: 30, Stepsize: 1.862645149230957e-06, Decrease error: 173189922.43494996, Curvature error: 186009081776919.75\n",
      "WARNING: jaxopt.ZoomLineSearch: Consider augmenting the maximal number of linesearch iterations.\n",
      "WARNING: jaxopt.ZoomLineSearch: Making an unsafe step, not decreasing enough the objective. Convergence of the solver is compromised as it does not reduce values.\n",
      "WARNING: jaxopt.ZoomLineSearch: Linesearch failed, no stepsize satisfying sufficient decrease found.\n",
      "INFO: jaxopt.ZoomLineSearch: Iter: 30, Stepsize: 1.862645149230957e-06, Decrease error: 601933.5962584128, Curvature error: 646364650113.2821\n",
      "WARNING: jaxopt.ZoomLineSearch: Consider augmenting the maximal number of linesearch iterations.\n",
      "WARNING: jaxopt.ZoomLineSearch: Making an unsafe step, not decreasing enough the objective. Convergence of the solver is compromised as it does not reduce values.\n"
     ]
    }
   ],
   "source": [
    "# run optimisation routine with noise in the flux\n",
    "betas_updated, zetas_updated, ln_noise_fluxes_updated, nll_updated = opt_sc.run_agenda(alphas, betas, zetas, train_label, train_label_ivar, train_flux, train_flux_ivar,\\\n",
    "                                            ln_noise_fluxes_init, l2_reg_strength, omega)\n"
   ]
  },
  {
   "cell_type": "code",
   "execution_count": 8,
   "metadata": {},
   "outputs": [],
   "source": [
    "name = '_P49_L2regstrength1000_omega1-train-highsnrgiants'\n",
    "savepath = '../sav/paper/'\n",
    "\n",
    "np.save(savepath+'alphas_giants-withscatters'+str(name), alphas)\n",
    "np.save(savepath+'betas_giants-withscatters'+str(name), betas_updated)\n",
    "np.save(savepath+'zetas_train_giants-withscatters'+str(name), zetas_updated)\n",
    "np.save(savepath+'noise_fluxes_train_giants-withscatters'+str(name), jnp.exp(ln_noise_fluxes_updated))\n",
    "np.save(savepath+'nll_train_giants-withscatters'+str(name),nll_updated)"
   ]
  },
  {
   "cell_type": "code",
   "execution_count": 9,
   "metadata": {},
   "outputs": [
    {
     "data": {
      "image/png": "[encoded data removed]",
      "text/plain": [
       "<Figure size 504x360 with 1 Axes>"
      ]
     },
     "metadata": {
      "needs_background": "light"
     },
     "output_type": "display_data"
    }
   ],
   "source": [
    "\n",
    "plt.figure(figsize=(7,5), constrained_layout=True)\n",
    "\n",
    "plt.plot(spectra_data['wl'], jnp.exp(ln_noise_fluxes_updated), color='navy')\n",
    "plt.ylabel('Flux scatters', fontsize=25)\n",
    "plt.xlabel('Wavelength [$\\AA$]', fontsize=25)\n",
    "plt.yscale('log')\n",
    "# plt.ylim(0,0.02)\n",
    "plt.tick_params(labelsize=25,direction='in',top=True,right=True,length=6,pad=10)\n",
    "plt.tick_params(which='major',labelsize=20,direction='in',top=True,right=True,length=10)\n",
    "plt.tick_params(which='minor', length=6, direction='in',top=True,right=True)\n",
    "plt.minorticks_on()\n",
    "\n",
    "plt.savefig('../plots/paper/noise_fluxes_train_giants'+str(name)+'.pdf',dpi=200, bbox_inches = 'tight')"
   ]
  }
 ],
 "metadata": {
  "kernelspec": {
   "display_name": "Python 3",
   "language": "python",
   "name": "python3"
  },
  "language_info": {
   "codemirror_mode": {
    "name": "ipython",
    "version": 3
   },
   "file_extension": ".py",
   "mimetype": "text/x-python",
   "name": "python",
   "nbconvert_exporter": "python",
   "pygments_lexer": "ipython3",
   "version": "3.9.12"
  }
 },
 "nbformat": 4,
 "nbformat_minor": 2
}
