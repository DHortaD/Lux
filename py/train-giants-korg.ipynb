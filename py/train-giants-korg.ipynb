{
 "cells": [
  {
   "cell_type": "code",
   "execution_count": 1,
   "metadata": {},
   "outputs": [],
   "source": [
    "import jax.numpy as jnp\n",
    "import numpy as np\n",
    "import jax\n",
    "jax.config.update(\"jax_enable_x64\", True)\n",
    "from astropy.io import fits\n",
    "import tqdm\n",
    "import h5py\n",
    "\n",
    "from matplotlib import rc\n",
    "import matplotlib.pyplot as plt\n",
    "rc('font',**{'family':'serif','serif':['Times']})\n",
    "rc('text', usetex=True)\n",
    "import cmasher as cm\n",
    "\n",
    "import load_data as ld\n",
    "import optimise as opt\n",
    "import scatters as opt_sc\n",
    "import init_latents as il\n",
    "import kfold_cv as kf"
   ]
  },
  {
   "cell_type": "code",
   "execution_count": 2,
   "metadata": {},
   "outputs": [
    {
     "name": "stdout",
     "output_type": "stream",
     "text": [
      "<KeysViewHDF5 ['apogee_id', 'spectra', 'suceeded']>\n"
     ]
    }
   ],
   "source": [
    "file_name = 'korg_grid.h5'\n",
    "file_path = '../data/'\n",
    "# Open the file in read mode\n",
    "with h5py.File(file_path+file_name, 'r+') as f:\n",
    "    # List the keys (datasets/groups) in the file\n",
    "    print(f.keys())\n",
    "\n",
    "    # Access a specific dataset\n",
    "    apo_id = f['apogee_id']\n",
    "    spectra = f['spectra']\n",
    "    suceeded = f['suceeded']\n",
    "\n",
    "    # Convert the dataset to a NumPy array\n",
    "    apo_id = apo_id[:]\n",
    "    spectra = spectra[:]\n",
    "    suceeded = suceeded[:]"
   ]
  },
  {
   "cell_type": "code",
   "execution_count": 3,
   "metadata": {},
   "outputs": [
    {
     "name": "stdout",
     "output_type": "stream",
     "text": [
      "../spec/spectra-reference-stars-APOGEE-giants-ref/spectra_data-train-rgbs-new.dat\n",
      "File already exists. Loading spectra data\n"
     ]
    },
    {
     "name": "stderr",
     "output_type": "stream",
     "text": [
      "24it [00:00, 81.69it/s]"
     ]
    },
    {
     "name": "stdout",
     "output_type": "stream",
     "text": [
      "Loaded data successfully\n"
     ]
    },
    {
     "name": "stderr",
     "output_type": "stream",
     "text": [
      "\n"
     ]
    }
   ],
   "source": [
    "file_name = '-train-rgbs-new'\n",
    "spectra_dir_path = '../spec/spectra-reference-stars-APOGEE-giants-ref/'\n",
    "file_path = '../data/master-APOGEE-giants-train.fits'\n",
    "spectra_data, label_data = ld.load_data(spectra_dir_path, file_path, file_name)"
   ]
  },
  {
   "cell_type": "code",
   "execution_count": 4,
   "metadata": {},
   "outputs": [],
   "source": [
    "n = 4000\n",
    "\n",
    "train_ID = label_data['ids'][:n]\n",
    "train_flux = spectra[:n] \n",
    "train_flux_err = spectra[:n] * 0.1\n",
    "train_flux_ivar = 1./train_flux_err**2\n",
    "train_label = label_data['labels'][:n] \n",
    "train_label_err = label_data['labels_err'][:n]\n",
    "train_label_ivar = label_data['labels_ivars'][:n]\n",
    "\n",
    "test_ID = label_data['ids'][n:]\n",
    "test_flux = spectra_data['fluxes'][n:]\n",
    "test_flux_err = spectra_data['fluxes_err'][n:]\n",
    "test_flux_ivar = spectra_data['fluxes_ivars'][n:]\n",
    "test_label = label_data['labels'][n:]\n",
    "test_label_err = label_data['labels_err'][n:]\n",
    "test_label_ivar = label_data['labels_ivars'][n:]\n"
   ]
  },
  {
   "cell_type": "code",
   "execution_count": 5,
   "metadata": {},
   "outputs": [
    {
     "data": {
      "text/plain": [
       "((12, 49), (8575, 49), (4000, 49))"
      ]
     },
     "execution_count": 5,
     "metadata": {},
     "output_type": "execute_result"
    }
   ],
   "source": [
    "P = 49\n",
    "alphas, betas, zetas = il.initialise_alphas_betas_zetas(train_label, train_flux, P)\n",
    "alphas.shape, betas.shape, zetas.shape"
   ]
  },
  {
   "cell_type": "code",
   "execution_count": 9,
   "metadata": {},
   "outputs": [
    {
     "name": "stderr",
     "output_type": "stream",
     "text": [
      "/var/folders/rq/q7l_wtbx4sx5ky0yrvbk7fgh0000gq/T/ipykernel_83847/141839097.py:9: TqdmDeprecationWarning: This function will be removed in tqdm==5.0.0\n",
      "Please use `tqdm.notebook.tqdm` instead of `tqdm.tqdm_notebook`\n",
      "  for iter in tqdm.tqdm_notebook(range(niter)):\n"
     ]
    },
    {
     "data": {
      "application/json": {
       "ascii": false,
       "bar_format": null,
       "colour": null,
       "elapsed": 0.0021448135375976562,
       "initial": 0,
       "n": 0,
       "ncols": null,
       "nrows": null,
       "postfix": null,
       "prefix": "",
       "rate": null,
       "total": 5,
       "unit": "it",
       "unit_divisor": 1000,
       "unit_scale": false
      },
      "application/vnd.jupyter.widget-view+json": {
       "model_id": "601af555a6e6447ca5dadfa8443d9b91",
       "version_major": 2,
       "version_minor": 0
      },
      "text/plain": [
       "  0%|          | 0/5 [00:00<?, ?it/s]"
      ]
     },
     "metadata": {},
     "output_type": "display_data"
    }
   ],
   "source": [
    "niter = 5\n",
    "alphas_iter = jnp.zeros((niter,) + alphas.shape)\n",
    "betas_iter = jnp.zeros((niter,) + betas.shape)\n",
    "zetas_iter = jnp.zeros((niter,) + zetas.shape)\n",
    "diff_chi2_iter = jnp.zeros((niter))\n",
    "chi2_iter = jnp.zeros((niter))\n",
    "\n",
    "omega = 1.\n",
    "for iter in tqdm.tqdm_notebook(range(niter)):\n",
    "    alphas, betas, zetas, diff_chi2, chi2 = opt.run_agenda(alphas, betas, zetas, train_label, train_label_err, train_flux, train_flux_err, omega)\n",
    "    alphas_iter = alphas_iter.at[iter].set(alphas)\n",
    "    betas_iter = betas_iter.at[iter].set(betas)\n",
    "    zetas_iter = zetas_iter.at[iter].set(zetas)\n",
    "    diff_chi2_iter = diff_chi2_iter.at[iter].set(diff_chi2)\n",
    "    chi2_iter = chi2_iter.at[iter].set(chi2)"
   ]
  },
  {
   "cell_type": "code",
   "execution_count": 11,
   "metadata": {},
   "outputs": [
    {
     "data": {
      "image/png": "[encoded data removed]",
      "text/plain": [
       "<Figure size 504x360 with 1 Axes>"
      ]
     },
     "metadata": {
      "needs_background": "light"
     },
     "output_type": "display_data"
    }
   ],
   "source": [
    "name = '_P49_omega1-train-giantskorg'\n",
    "savepath = '../sav/paper/'\n",
    "\n",
    "np.save(savepath+'alphas_giants'+str(name), alphas_iter)\n",
    "np.save(savepath+'betas_giants'+str(name), betas_iter)\n",
    "np.save(savepath+'diff_chi2_giants'+str(name), diff_chi2_iter)\n",
    "np.save(savepath+'chi2_giants'+str(name), chi2_iter)\n",
    "np.save(savepath+'zetas_train_giants'+str(name), zetas_iter)\n",
    "\n",
    "plt.figure(figsize=(7,5), constrained_layout=True)\n",
    "\n",
    "plt.plot(chi2_iter, color='navy', lw=3)\n",
    "plt.ylabel('$\\chi^{2}$', fontsize=20)\n",
    "plt.xlabel('Iteration $\\#$', fontsize=20)\n",
    "plt.yscale('log')\n",
    "plt.tick_params(labelsize=25,direction='in',top=True,right=True,length=6,pad=10)\n",
    "plt.tick_params(which='major',labelsize=20,direction='in',top=True,right=True,length=10)\n",
    "plt.tick_params(which='minor', length=6, direction='in',top=True,right=True)\n",
    "plt.minorticks_on()\n",
    "\n",
    "plt.savefig('../plots/paper/chi2_giants'+str(name)+'.pdf',dpi=200, bbox_inches = 'tight')"
   ]
  },
  {
   "cell_type": "code",
   "execution_count": 7,
   "metadata": {},
   "outputs": [],
   "source": [
    "name = '_P49_omega1-train-giantskorg'\n",
    "savepath = '../sav/paper/'\n",
    "\n",
    "alphas_iter = np.load(savepath+'alphas_giants'+str(name)+'.npy', allow_pickle=True)\n",
    "betas_iter = np.load(savepath+'betas_giants'+str(name)+'.npy', allow_pickle=True)\n",
    "zetas_iter = np.load(savepath+'zetas_train_giants'+str(name)+'.npy', allow_pickle=True)\n",
    "\n",
    "alphas = alphas_iter[-1, :, :]\n",
    "betas = betas_iter[-1, :, :]\n",
    "zetas = zetas_iter[-1, :, :]\n"
   ]
  },
  {
   "cell_type": "code",
   "execution_count": 8,
   "metadata": {},
   "outputs": [],
   "source": [
    "ln_noise_fluxes_init = jnp.full(train_flux.shape[1], -8.0)\n",
    "l2_reg_strength = 1000\n",
    "omega=1."
   ]
  },
  {
   "cell_type": "code",
   "execution_count": 9,
   "metadata": {},
   "outputs": [],
   "source": [
    "# run optimisation routine with noise in the flux\n",
    "betas_updated, zetas_updated, ln_noise_fluxes_updated, nll_updated = opt_sc.run_agenda(alphas, betas, zetas, train_label, train_label_ivar, train_flux, train_flux_ivar,\\\n",
    "                                            ln_noise_fluxes_init, l2_reg_strength, omega)\n"
   ]
  },
  {
   "cell_type": "code",
   "execution_count": 10,
   "metadata": {},
   "outputs": [],
   "source": [
    "name = '_P49_L2regstrength1000_omega1-train-giantskorg'\n",
    "savepath = '../sav/paper/'\n",
    "\n",
    "np.save(savepath+'alphas_giants-withscatters'+str(name), alphas)\n",
    "np.save(savepath+'betas_giants-withscatters'+str(name), betas_updated)\n",
    "np.save(savepath+'zetas_train_giants-withscatters'+str(name), zetas_updated)\n",
    "np.save(savepath+'noise_fluxes_train_giants-withscatters'+str(name), jnp.exp(ln_noise_fluxes_updated))\n",
    "np.save(savepath+'nll_train_giants-withscatters'+str(name),nll_updated)"
   ]
  }
 ],
 "metadata": {
  "kernelspec": {
   "display_name": "Python 3",
   "language": "python",
   "name": "python3"
  },
  "language_info": {
   "codemirror_mode": {
    "name": "ipython",
    "version": 3
   },
   "file_extension": ".py",
   "mimetype": "text/x-python",
   "name": "python",
   "nbconvert_exporter": "python",
   "pygments_lexer": "ipython3",
   "version": "3.9.12"
  }
 },
 "nbformat": 4,
 "nbformat_minor": 2
}
